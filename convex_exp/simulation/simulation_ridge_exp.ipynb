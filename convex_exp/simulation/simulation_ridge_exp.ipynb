{
 "cells": [
  {
   "cell_type": "markdown",
   "metadata": {},
   "source": [
    "# Numerical Illustrations (Linear)\n",
    "Setup inspired by Avella-Medina (2017).\n",
    "\n",
    "(https://projecteuclid.org/journals/bernoulli/volume-23/issue-4B/Influence-functions-for-penalized-M-estimators/10.3150/16-BEJ841.full)\n",
    "\n",
    "We will use a linear model which we solve using penalized ridge regression to illustrate the statistical influence function bound proven in this paper. "
   ]
  },
  {
   "cell_type": "markdown",
   "metadata": {},
   "source": [
    "## Linear Design"
   ]
  },
  {
   "cell_type": "markdown",
   "metadata": {},
   "source": [
    "We simulate a model $y_i = x_i^T\\theta + \\mu_i$ for $n=[15, 10000]$. Each $x_i$ is iid standard normal random variables and $\\theta^\\star \\in \\mathbb{R}^9$ is fixed ahead of time. In order to introduce contaimination into the dataset, we let $\\mu_i = (1-b_i)N(0,1)+b_iN(0,10)$ and $b_i\\sim \\text{Bernoulli}(.1)$.\n",
    "\n",
    "### Notation\n",
    "For our analysis we use the following notation:\n",
    "\n",
    "\n",
    "### Goal\n",
    "\n",
    "We want to study the convergence of the empirical influence function to the population influence function. \n",
    "\n",
    "### Notation\n",
    "For our analysis we use the following notation:\n",
    "\n",
    "* $z=(x,y)$ is a sample\n",
    "\n",
    "* $\\ell(z,\\theta)= (y - x^T\\theta) + \\lambda \\theta^T \\theta$ is the loss function (we make specific choice below)\n",
    "\n",
    "* $\\theta_\\star := \\argmin_{\\theta \\in \\Theta} \\Big[ F(\\theta):= \\mathbb{E}_{Z \\sim P}\\left[ \\ell(Z, \\theta) \\right] \\Big]$, where $P$ is an unknown probability distribution over the data space $Z$\n",
    "\n",
    "* $H_\\star = \\nabla_{\\theta_\\star}^2 \\ell (z, \\theta_\\star)$ is the population Hessian\n",
    "\n",
    "* $ \\theta_n := \\argmin_{\\theta \\in \\Theta} \\frac{1}{n} \\sum_{i=1}^n \\ell(z_i, \\theta)$ is the empirical risk minimizer\n",
    "\n",
    "* $H_n(\\theta_n) := \\frac{1}{n} \\sum_{i=1}^n \\nabla_{\\theta_n}^2 \\ell(z_i, \\theta_n)$ is empirical Hessian\n"
   ]
  },
  {
   "cell_type": "code",
   "execution_count": 9,
   "metadata": {},
   "outputs": [],
   "source": [
    "import numpy as np\n",
    "import pandas as pd\n",
    "from utils import run_sim_lin, generate_theta_star\n",
    "\n",
    "# Generate theta*\n",
    "dim = 9\n",
    "theta_star = generate_theta_star(dim)"
   ]
  },
  {
   "cell_type": "markdown",
   "metadata": {},
   "source": [
    "# Find `oracle_theta` for the Ridge problem\n",
    "\n",
    "We have $\\theta^\\star = (E[x x^\\top]  + \\lambda I)^{-1} E[yx]$. \n",
    "\n",
    "But our data generation satisfies $y = x^\\top \\theta_\\star + \\epsilon$ so that \n",
    "$$\n",
    "    E[yx] = E[xx^\\top] \\theta_\\star + E[x\\epsilon] = H \\theta_\\star \\,.\n",
    "$$\n",
    "\n",
    "Therefore, \n",
    "$$\n",
    "    \\theta^\\star = (H  + \\lambda I)^{-1} H \\theta_\\star = \\frac{1/p^2}{1/p^2 + \\lambda} \\theta_\\star ,\n",
    "$$\n",
    "since $H = (1 / p^2) I$ in our case. \"\n",
    "   "
   ]
  },
  {
   "cell_type": "code",
   "execution_count": 10,
   "metadata": {},
   "outputs": [],
   "source": [
    "# Find oracle theta for linear regression\n",
    "def find_oracle_theta_lin(dim, lambda_):\n",
    "    return 1 / (1 + lambda_ * dim * dim) * theta_star"
   ]
  },
  {
   "cell_type": "markdown",
   "metadata": {},
   "source": [
    "# Population Influence Function for Ridge Regression\n",
    "We will use the following closed form solution for the population influence function provided by Cook and Weisberg (1982).\n",
    "\n",
    "$I(z)= -H_\\star^{-1}\\nabla \\ell(z,\\theta_\\star)$\n",
    "\n",
    "We define the following:\n",
    "\n",
    "$H_\\star =  diag(\\frac{1}{p^2} + \\lambda)$ , where $p$ is dimension of $\\theta$\n",
    "\n",
    "$\\nabla \\ell(z,\\theta_\\star) = -(y-x^T\\theta_\\star)x +\\lambda\\theta_\\star$\n",
    "\n"
   ]
  },
  {
   "cell_type": "code",
   "execution_count": 11,
   "metadata": {},
   "outputs": [],
   "source": [
    "# Population Influence Function for Linear Regression\n",
    "def pop_if_lin(dim, x_con, y_con, oracle_theta, lambda_):\n",
    "    hess = np.eye(dim) * (1 / dim**2 + lambda_)  # H = (1/d^2) I in our case\n",
    "    grad = (np.dot(x_con, oracle_theta) - y_con) * \\\n",
    "        x_con + np.sum(lambda_ * oracle_theta)\n",
    "    return -np.linalg.solve(hess, grad)\n"
   ]
  },
  {
   "cell_type": "markdown",
   "metadata": {},
   "source": [
    "# Empirical Influence Function for Ridge Regression\n",
    "We will use the following closed form solution for the empirical influence function provided by Cook and Weisberg (1982).\n",
    "\n",
    "$I_n(z)= -H_n(\\theta_n)^{-1}\\nabla \\ell(z,\\theta_n)$\n",
    "\n",
    "We define the following:\n",
    "\n",
    "$H_n(\\theta_n) = \\frac1n \\sum_{i=1}^n x_ix_i^T + \\lambda_I$ \n",
    "\n",
    "$\\nabla \\ell(z,\\theta_n) = -(y-x^T\\theta_n)x + \\lambda\\theta_n$\n",
    "\n",
    "$\\theta_n$ is calculated using ridge regression"
   ]
  },
  {
   "cell_type": "code",
   "execution_count": 12,
   "metadata": {},
   "outputs": [],
   "source": [
    "# Finding theta values using Ridge regression\n",
    "def ridge(x, y, lambda_):\n",
    "    hess = np.matmul(x.T, x) + lambda_ * np.eye(x.shape[1])\n",
    "    grad = np.matmul(x.T, y)\n",
    "    return np.linalg.solve(hess, grad)\n",
    "\n",
    "# Empirical Influence Function for Linear Regression\n",
    "def emp_if_lin(x_sim, y_sim, x_con, y_con, lambda_, n):\n",
    "    ridge_theta = ridge(x_sim, y_sim, lambda_)\n",
    "    hess = np.matmul(x_sim.T, x_sim) / n + lambda_ * np.eye(x_sim.shape[1])\n",
    "    grad = (np.dot(x_con, ridge_theta) - y_con) * \\\n",
    "        x_con + np.sum(lambda_ * ridge_theta)\n",
    "    return -np.linalg.solve(hess, grad)\n"
   ]
  },
  {
   "cell_type": "markdown",
   "metadata": {},
   "source": [
    "## Run Simulations\n",
    "We now calculate the difference between the empirical influence and population influence of $100$ simulated contamination datapoint using different training data sample sizes ($n = 15, 55, 202, 742, 2724, 10000$). We consider different penalization parameter values $\\lambda = 1e-4, 1e-3, 1e-2$. \n"
   ]
  },
  {
   "cell_type": "code",
   "execution_count": 13,
   "metadata": {},
   "outputs": [],
   "source": [
    "# Run simulation\n",
    "eps = .1\n",
    "lambda_ls = [1e-4, 1e-3, 1e-2]\n",
    "n_ls = list(np.logspace(np.log10(15), np.log10(10000), 6).astype(int))\n",
    "n_sim = 100\n",
    "seed = 1\n",
    "oracle_theta_dict = {l: find_oracle_theta_lin(dim, l) for l in lambda_ls}\n",
    "\n",
    "mean_diff_abs_total, sd_diff_abs_total, n_samp, lambda_ = run_sim_lin(\n",
    "    n_sim, eps, n_ls, lambda_ls, oracle_theta_dict, dim, seed, theta_star, emp_if_lin, pop_if_lin)\n",
    "bound_val_results = pd.DataFrame({\"mean_diff_abs\": mean_diff_abs_total,\n",
    "                                 \"n\": n_samp, \"lambda\": lambda_, \"sd_diff_abs\": sd_diff_abs_total})\n"
   ]
  },
  {
   "cell_type": "markdown",
   "metadata": {},
   "source": [
    "## Calculate Statistical Bound (Theorem 1)\n",
    "We calculate the bound from Theorem 1 without coefficients using the following equations. \n",
    "\n",
    "$\\|I_n(z) - I(z)\\|_{H_\\star}^2 \\leq \\frac{p_\\star^2}{\\mu_\\star n} log(\\frac p\\delta)^3$\n",
    "\n",
    "where, $p_\\star = \\text{Tr}\\bigg [H_\\star^{-1/2}G_\\star H_\\star^{-1/2} \\bigg] = \\text{Tr}\\bigg [H_\\star^{-1}G_\\star\\bigg ]$"
   ]
  },
  {
   "cell_type": "code",
   "execution_count": 14,
   "metadata": {},
   "outputs": [],
   "source": [
    "def stat_bound(p_star, mu_star, n, delta):\n",
    "    return ((p_star ** 2)/((mu_star) * n) * np.log(p/delta) ** 3)\n",
    "\n",
    "\n",
    "# Calculate statistical bound for each lambda value\n",
    "p = 9\n",
    "lambda_ls = [1e-4, 1e-3, 1e-2]\n",
    "stat_bound_ls = {}\n",
    "delta = .05\n",
    "for l in lambda_ls:\n",
    "    hess_pop = np.eye(dim) * (1 / dim**l)\n",
    "    mu_star = np.min(np.linalg.eig(hess_pop)[0])\n",
    "    n_ls = bound_val_results.loc[bound_val_results['lambda'] == l]['n']\n",
    "    stat_bound_ls[l] = stat_bound(p, mu_star, n_ls, delta)\n"
   ]
  },
  {
   "cell_type": "markdown",
   "metadata": {},
   "source": [
    "## Graph Results\n",
    "We only graph results for $\\lambda_{} = 1e-3$"
   ]
  },
  {
   "cell_type": "code",
   "execution_count": 15,
   "metadata": {},
   "outputs": [],
   "source": [
    "# Graphing Parameters\n",
    "import matplotlib as mpl\n",
    "import matplotlib.pyplot as plt\n",
    "mpl.rcParams[\"lines.linewidth\"] = 3\n",
    "mpl.rcParams[\"xtick.labelsize\"] = 12\n",
    "mpl.rcParams[\"ytick.labelsize\"] = 12\n",
    "mpl.rcParams[\"ytick.labelsize\"] = 12\n",
    "mpl.rcParams[\"legend.fontsize\"] = 15\n",
    "mpl.rcParams[\"axes.titlesize\"] = 18\n",
    "mpl.rcParams[\"axes.labelsize\"] = 18\n",
    "mpl.rcParams['lines.markersize'] = 12\n",
    "shape = [\"o\", \"X\", \"s\", \"^\", \"P\"]\n",
    "line = [\"solid\", \"dotted\", \"dashed\", \"dashdot\", \"loosely dotted\"]\n",
    "COLORS = plt.rcParams['axes.prop_cycle'].by_key()['color']\n"
   ]
  },
  {
   "cell_type": "code",
   "execution_count": 16,
   "metadata": {},
   "outputs": [
    {
     "data": {
      "image/png": "[encoded data removed]",
      "text/plain": [
       "<Figure size 500x400 with 1 Axes>"
      ]
     },
     "metadata": {},
     "output_type": "display_data"
    }
   ],
   "source": [
    "# Graph Results\n",
    "import pandas as pd\n",
    "bound_val_results = pd.DataFrame({\"mean_diff_abs\": mean_diff_abs_total,\n",
    "                                 \"n\": n_samp, \"lambda\": lambda_, \"sd_diff_abs\": sd_diff_abs_total})\n",
    "lambda_ls_name = [r\"$10^{-4}$\", r\"$10^{-3}$\", r\"$10^{-2}$\"]\n",
    "lambda_ls = [1e-3]\n",
    "fig, ax = plt.subplots(nrows=1, ncols=1, figsize=(5, 4))\n",
    "for i, l in enumerate(lambda_ls):\n",
    "    data = bound_val_results.loc[bound_val_results['lambda'] == l]\n",
    "    ax.plot(np.abs(data['n']), np.abs(data['mean_diff_abs']), label=\"Empirical\",\n",
    "            color=COLORS[i], marker=shape[i], linestyle=line[i], markersize=11)\n",
    "    ax.fill_between(np.abs(data['n']), np.abs(data['mean_diff_abs'] - 1.96 * data['sd_diff_abs'] / np.sqrt(\n",
    "        data['n'])), np.abs(data['mean_diff_abs'] + 1.96 * data['sd_diff_abs'] / np.sqrt(data['n'])), alpha=0.2)\n",
    "    # Scale the statistical bound by a constant of 2\n",
    "    ax.plot(np.abs(data['n']), 2 * stat_bound_ls[l],\n",
    "            color=COLORS[i], linestyle=line[1], label=\"Bound\")\n",
    "\n",
    "ax.set_ylabel(r'$\\|\\| I_{n}(z) - I(z) \\|\\|_{H_\\star}^2$')\n",
    "ax.set_xlabel(\"Sample Size n\")\n",
    "ax.set_title('Simulated (Regression)')\n",
    "ax.set_xscale(\"log\")\n",
    "ax.set_yscale(\"log\")\n",
    "ax.legend(loc='upper right', borderpad=.15, labelspacing=.2)\n",
    "\n",
    "plt.legend(loc='upper right', title='Reg. Param.', title_fontsize=18)\n",
    "plt.tight_layout()\n"
   ]
  }
 ],
 "metadata": {
  "interpreter": {
   "hash": "f8679179a5b13137638aa1e24ac6e49d9c5624eddfe7e85d25bbc20e69122995"
  },
  "kernelspec": {
   "display_name": "Python 3.7.13 ('mend')",
   "language": "python",
   "name": "python3"
  },
  "language_info": {
   "codemirror_mode": {
    "name": "ipython",
    "version": 3
   },
   "file_extension": ".py",
   "mimetype": "text/x-python",
   "name": "python",
   "nbconvert_exporter": "python",
   "pygments_lexer": "ipython3",
   "version": "3.7.13"
  }
 },
 "nbformat": 4,
 "nbformat_minor": 4
}
