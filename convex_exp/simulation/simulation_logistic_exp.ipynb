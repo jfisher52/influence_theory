{
 "cells": [
  {
   "cell_type": "markdown",
   "metadata": {},
   "source": [
    "# Numerical Illustrations (Logisitic)\n",
    "\n",
    "\n",
    "We will use a logistic model solved using logistic\n",
    " regression to illustrate the theoretical influence function bound proven in this paper. "
   ]
  },
  {
   "cell_type": "markdown",
   "metadata": {},
   "source": [
    "## Logisitic Design"
   ]
  },
  {
   "cell_type": "markdown",
   "metadata": {},
   "source": [
    "We simulate a simple logistic model $y_i \\sim \\text{Binomial}(p_i)$, where  $p_i= \\frac{1}{1+ \\exp{(-(x_i^T\\theta + \\mu_i))}}$ for $n=[30, 1000]$. Each $x_i$ is iid standard normal random variables and and $\\theta \\in \\mathbb{R}^9$ is fixed ahead of time. In order to introduce contaimination into the dataset, we let $\\mu_i = (1-b_i)N(0,1)+b_iN(0,10)$ and $b_i\\sim \\text{Bernoulli}(.1)$.\n",
    "\n",
    "We use a sample of $n = 50,000$ to simulate the population influence function.\n"
   ]
  },
  {
   "cell_type": "code",
   "execution_count": 3,
   "metadata": {},
   "outputs": [],
   "source": [
    "# Simulate Data\n",
    "import numpy as np\n",
    "from math import sqrt\n",
    "\n",
    "# Generate theta*\n",
    "dim = 9\n",
    "rng1 = np.random.RandomState(0)\n",
    "beta_star = rng1.randn(dim)  # Random parameters\n",
    "beta_star = beta_star / np.linalg.norm(beta_star)  # Make norm = 1\n",
    "\n",
    "# Simulate training data\n",
    "def sim_data(eps, n, rng):\n",
    "    b = np.random.binomial(size=n, n=1, p=eps)\n",
    "    # Normalize by dimension to small norm\n",
    "    x = rng.normal(0, 1, size=(n, dim)) / dim  # (n, d)\n",
    "    mu = (1-b) * rng.normal(0, 1, size=n) + b * \\\n",
    "        rng.normal(0, sqrt(10), size=n)  # (n,)\n",
    "    prob = 1/(1+np.exp(-1*(np.matmul(x, beta_star) + mu)))\n",
    "    y = rng.binomial(size=n, n=1, p=prob)\n",
    "    return (x, y)\n",
    "\n",
    "# Simulate contaminated point\n",
    "def sim_contaminated(n, rng):\n",
    "    x = rng.normal(0, 1, size=(n, dim)) / dim  # (n, d)\n",
    "    mu = rng.normal(0, sqrt(10), size=n)  # (n,)\n",
    "    prob = 1/(1+np.exp(-1*(np.matmul(x, beta_star) + mu)))\n",
    "    y = np.array([rng.binomial(size=n, n=1, p=prob)])\n",
    "    return (x, y)\n"
   ]
  },
  {
   "cell_type": "markdown",
   "metadata": {},
   "source": [
    "# Empirical Influence Function for Logistic Regression\n",
    "\n",
    "We will use the following closed form solution for the empirical influence function provided by Cook and Weisberg (1982).\n",
    "\n",
    "$I_n(z)= -H_n(\\theta_n)^{-1}(\\psi(z,\\theta_n))$\n",
    "\n",
    "where $z=(x,y)$ and $\\sigma(x,\\theta) = \\frac{1}{1+\\exp{(-(x^T\\theta))}}$\n",
    "\n",
    "We define the following:\n",
    "\n",
    "$H_n(\\theta_n) = \\frac1n\\sum_{i=1}^n  x_ix_i^T*\\sigma(x_i,\\theta_n)(1-\\sigma(x_i,\\theta_n))$\n",
    "\n",
    "$\\psi(z,\\theta_n = x^T(\\sigma(x,\\theta_n) - y)$\n",
    "\n",
    "$\\theta_n$ is calculated using ordinary least squares logistic regression"
   ]
  },
  {
   "cell_type": "code",
   "execution_count": 4,
   "metadata": {},
   "outputs": [],
   "source": [
    "# Empirical Influence Function Parts (H_n)\n",
    "# Need to use optimization algorithm to calculate IF\n",
    "from scipy.linalg import block_diag\n",
    "from numpy.linalg import inv\n",
    "from sklearn import linear_model\n",
    "import numpy as np\n",
    "\n",
    "# Finding theta values using Logistic Regression\n",
    "def logistic(x,y):\n",
    "    clf = linear_model.LogisticRegression(penalty = 'none')\n",
    "    clf.fit(x,y)\n",
    "    return(clf)\n",
    "\n",
    "def sigma(x,theta):\n",
    "    return(1/(1+np.exp(-1*(np.dot(x,np.transpose(theta))))))\n",
    "\n",
    "def emp_H_func(x,theta):\n",
    "    return (1/x.shape[0])* np.dot(np.dot(np.transpose(x),(np.diag(sigma(x,theta)*(1-sigma(x,theta))))),x)\n",
    "\n",
    "def psi_func(x_con,y_con,theta):\n",
    "    return((np.dot(np.transpose(x_con), (sigma(x_con,theta)-y_con))))\n",
    "    \n",
    "def if_orth_emp(x_sim, y_sim,x_con, y_con):\n",
    "    ols_theta = logistic(x_sim,y_sim).coef_\n",
    "    psi = psi_func(x_con,y_con,ols_theta[0])\n",
    "    H= emp_H_func(x_sim, ols_theta[0])\n",
    "    H_inv_x = np.linalg.solve(H,psi)\n",
    "    return(-1*H_inv_x, H)"
   ]
  },
  {
   "cell_type": "markdown",
   "metadata": {},
   "source": [
    "## Run Simulations\n",
    "We now calculate the difference between the empirical influence and population influence of $100$ simulated contamination datapoint using different training data sample sizes ($n = 29, 60, 121, 245, 495, 1000$). We consider the population influence function to be the empriical influence calculated at $n=50,000$."
   ]
  },
  {
   "cell_type": "code",
   "execution_count": 5,
   "metadata": {},
   "outputs": [],
   "source": [
    "# Runs n_sim number of simulations computing population and empirical IF on one contaminated point\n",
    "def if_diff_sim(x_sim, y_sim,x_pop, y_pop, n, n_sim, rng):\n",
    "    x_con_ls = []\n",
    "    y_con_ls = []\n",
    "    if_emp_ls = []\n",
    "    if_pop_ls = []\n",
    "    x_con_ls,y_con_ls = sim_contaminated(n_sim,rng)\n",
    "    for i in range(n_sim):\n",
    "        x_con = x_con_ls[i].reshape([1,len(x_con_ls[i])])\n",
    "        y_con = y_con_ls[0][i]\n",
    "        if_emp, H_emp = if_orth_emp(x_sim, y_sim, x_con, y_con)\n",
    "        if_emp_ls.append(if_emp)\n",
    "        # Using a large sample size to generate a \"population\" IF\n",
    "        if_pop, H_pop = if_orth_emp(x_pop, y_pop,x_con,y_con)\n",
    "        if_pop_ls.append(if_pop)\n",
    "    return(x_con_ls, y_con_ls, if_emp_ls, if_pop_ls, H_pop)"
   ]
  },
  {
   "cell_type": "code",
   "execution_count": 6,
   "metadata": {},
   "outputs": [],
   "source": [
    "# Run simulation\n",
    "eps = .1\n",
    "n_ls = list(np.logspace(np.log10(30),np.log10(1000),6).astype(int))\n",
    "n_pop = 50000\n",
    "n_sim = 100\n",
    "\n",
    "mean_diff_abs_0 = []\n",
    "sd_diff_abs_0 = []\n",
    "mean_diff_abs_1 = []\n",
    "sd_diff_abs_1 = []\n",
    "mean_diff_abs_2 = []\n",
    "sd_diff_abs_2 = []\n",
    "mean_diff_abs_total = []\n",
    "sd_diff_abs_total = []\n",
    "n_samp = []\n",
    "\n",
    "rng = np.random.RandomState(1)\n",
    "rng2 = np.random.RandomState(2)\n",
    "\n",
    "# Get population sample\n",
    "y_pop = {}\n",
    "while set(y_pop) != {0,1}:\n",
    "    x_pop,y_pop = sim_data(eps, n_pop, rng2)\n",
    "\n",
    "for n in n_ls:\n",
    "    y_sim ={}\n",
    "    # Make sure this is at least 1 of each category (in order to logistic regression)\n",
    "    while set(y_sim) != {0,1}:\n",
    "        x_sim,y_sim = sim_data(eps, n, rng)\n",
    "    x_con_ls, y_con_ls, if_emp_ls, if_pop_ls, H_pop = if_diff_sim(x_sim, y_sim, x_pop, y_pop, n, n_sim, rng)\n",
    "    diff_0 = []\n",
    "    diff_1 = []\n",
    "    diff_2 = []\n",
    "    diff_abs_0 = []\n",
    "    diff_abs_1 = []\n",
    "    diff_abs_2 = []\n",
    "    bound_val = []\n",
    "    for i in range(len(if_emp_ls)):\n",
    "        diff_abs_0.append(np.abs(if_emp_ls[i][0]-if_pop_ls[i][0]))\n",
    "        diff_abs_1.append(np.abs(if_emp_ls[i][1]-if_pop_ls[i][1]))\n",
    "        diff_abs_2.append(np.abs(if_emp_ls[i][2]-if_pop_ls[i][2]))\n",
    "        diff_abs_total = np.abs(if_emp_ls[i]-if_pop_ls[i])\n",
    "        bound_val.append(np.dot(np.matmul(diff_abs_total,H_pop),np.transpose(diff_abs_total)))\n",
    "    sd_diff_abs_0.append(np.std(diff_abs_0))\n",
    "    mean_diff_abs_0.append(np.mean(diff_abs_0))\n",
    "    sd_diff_abs_1.append(np.std(diff_abs_1))\n",
    "    mean_diff_abs_1.append(np.mean(diff_abs_1))\n",
    "    sd_diff_abs_2.append(np.std(diff_abs_2))\n",
    "    mean_diff_abs_2.append(np.mean(diff_abs_2))\n",
    "    mean_diff_abs_total.append(np.mean(bound_val))\n",
    "    sd_diff_abs_total.append(np.std(bound_val))\n",
    "    n_samp.append(n)\n"
   ]
  },
  {
   "cell_type": "markdown",
   "metadata": {},
   "source": [
    "## Calculate Statistical Bound (Theorem 1)\n",
    "We calculate the bound from Theorem 1 without coefficients using the following equations. \n",
    "\n",
    "$\\|I_n(z) - I(z)\\|_{H_\\star}^2 \\leq \\frac{p_\\star^2}{\\mu_\\star n} log(\\frac p\\delta)^3$\n",
    "\n",
    "where, $p_\\star = \\text{Tr}\\bigg [H_\\star^{-1/2}G_\\star H_\\star^{-1/2} \\bigg] = \\text{Tr}\\bigg [H_\\star^{-1}G_\\star\\bigg ]$"
   ]
  },
  {
   "cell_type": "code",
   "execution_count": 17,
   "metadata": {},
   "outputs": [],
   "source": [
    "# Bound \n",
    "from scipy.linalg import sqrtm\n",
    "import numpy as np\n",
    "def stat_bound(p_star, mu_star,n,delta,p):\n",
    "    return((p_star**2)/((mu_star)*pd.DataFrame(n))*np.log(p/delta)**3)\n",
    "\n",
    "def p_star_func(H,x_con, y_con):\n",
    "    H_inverse = np.linalg.inv(H) \n",
    "    # Find G_\\star, gradient of a single point \n",
    "    grad = psi_func(x_con,y_con,ols_theta[0]) #n\n",
    "    G_star = np.average(np.dot(grad,np.transpose(grad)))# 1\n",
    "    return(np.trace(H_inverse*G_star))\n",
    "\n",
    "import pandas as pd\n",
    "n_ls = np.logspace(np.log10(30),np.log10(1000),6).astype(int)\n",
    "eps = .1\n",
    "n_pop = 50000\n",
    "n_sim = 100\n",
    "rng = np.random.RandomState(1)\n",
    "rng2 = np.random.RandomState(2)\n",
    "# Generate 100 contaminated points\n",
    "x_con_ls,y_con_ls = sim_contaminated(n_sim,rng)\n",
    "# Get population theta and H\n",
    "ols_theta = logistic(x_pop,y_pop).coef_\n",
    "H_pop = emp_H_func(x_pop, ols_theta[0])\n",
    "\n",
    "\n",
    "delta = .05\n",
    "p = 9\n",
    "mu_star = np.min(np.linalg.eig(H_pop)[0])\n",
    "n = list(np.logspace(np.log10(30),np.log10(1000),6).astype(int))[1:6]\n",
    "stat_bound_ls=stat_bound(p,mu_star,n,delta,9)\n"
   ]
  },
  {
   "cell_type": "markdown",
   "metadata": {},
   "source": [
    "## Graph Results"
   ]
  },
  {
   "cell_type": "code",
   "execution_count": 15,
   "metadata": {},
   "outputs": [],
   "source": [
    "# Graphing Parameters\n",
    "import matplotlib as mpl\n",
    "import matplotlib.pyplot as plt\n",
    "mpl.rcParams[\"lines.linewidth\"] = 3\n",
    "mpl.rcParams[\"xtick.labelsize\"] = 12\n",
    "mpl.rcParams[\"ytick.labelsize\"] = 12\n",
    "mpl.rcParams[\"ytick.labelsize\"] = 12\n",
    "mpl.rcParams[\"legend.fontsize\"] = 18\n",
    "mpl.rcParams[\"axes.titlesize\"] = 18\n",
    "mpl.rcParams[\"axes.labelsize\"] = 18\n",
    "mpl.rcParams['lines.markersize'] = 12\n",
    "shape = [\"o\",\"X\", \"s\",\"^\", \"P\"]\n",
    "line = [\"solid\", \"dotted\", \"dashed\", \"dashdot\",\"loosely dotted\"]\n",
    "COLORS = plt.rcParams['axes.prop_cycle'].by_key()['color']"
   ]
  },
  {
   "cell_type": "code",
   "execution_count": 19,
   "metadata": {},
   "outputs": [
    {
     "data": {
      "image/png": "[encoded data removed]",
      "text/plain": [
       "<Figure size 500x400 with 1 Axes>"
      ]
     },
     "metadata": {},
     "output_type": "display_data"
    }
   ],
   "source": [
    "# Graph Results\n",
    "import pandas as pd\n",
    "bound_val_results = pd.DataFrame({\"mean_diff_abs\":mean_diff_abs_total, \"n\":n_samp,\"sd_diff_abs\":sd_diff_abs_total})\n",
    "\n",
    "fig, ax = plt.subplots(nrows=1, ncols=1, figsize=(5,4))\n",
    "data = bound_val_results[1:6]\n",
    "mean = np.abs(data['mean_diff_abs'])/np.max(np.abs(data['mean_diff_abs']))\n",
    "sd = data['sd_diff_abs']/np.max(np.abs(data['sd_diff_abs']))\n",
    "ax.plot(np.abs(data['n']),mean, color = COLORS[1], marker = shape[1], linestyle = line[0], markersize = 11, label = \"Empirical\")\n",
    "ax.plot(np.abs(data['n']),2*stat_bound_ls[0]/np.max(stat_bound_ls[0]), color = COLORS[1], linestyle = line[1], label = \"Bound\")\n",
    "ax.fill_between(np.abs(data['n']), mean-1.96*sd/np.sqrt(data['n']), mean+1.96*sd/np.sqrt(data['n']), alpha=0.2, color = COLORS[1])\n",
    "ax.set_ylabel(r'$\\|\\| I_{n}(z) - I(z) \\|\\|_{H_\\star}^2$')\n",
    "ax.set_xlabel(\"Sample Size n\")\n",
    "ax.set_title('Simulated (Classification)')\n",
    "ax.set_xscale(\"log\")\n",
    "ax.set_yscale(\"log\")\n",
    "\n",
    "plt.tight_layout()\n",
    "\n",
    "plt.savefig(\"../../graphs/simulation_logistic_bound.pdf\")\n",
    "plt.savefig(\"../../graphs/simulation_logistic_bound.png\")"
   ]
  }
 ],
 "metadata": {
  "kernelspec": {
   "display_name": "Python 3.7.13 ('mend')",
   "language": "python",
   "name": "python3"
  },
  "language_info": {
   "codemirror_mode": {
    "name": "ipython",
    "version": 3
   },
   "file_extension": ".py",
   "mimetype": "text/x-python",
   "name": "python",
   "nbconvert_exporter": "python",
   "pygments_lexer": "ipython3",
   "version": "3.7.13"
  },
  "orig_nbformat": 4,
  "vscode": {
   "interpreter": {
    "hash": "f8679179a5b13137638aa1e24ac6e49d9c5624eddfe7e85d25bbc20e69122995"
   }
  }
 },
 "nbformat": 4,
 "nbformat_minor": 2
}
