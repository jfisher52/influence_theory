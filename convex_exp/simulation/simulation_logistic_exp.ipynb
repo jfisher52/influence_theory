{
 "cells": [
  {
   "cell_type": "markdown",
   "metadata": {},
   "source": [
    "# Numerical Illustrations (Logisitic)\n",
    "\n",
    "\n",
    "We will use a logistic model solved using logistic\n",
    " regression to illustrate the theoretical influence function bound proven in this paper. "
   ]
  },
  {
   "cell_type": "markdown",
   "metadata": {},
   "source": [
    "## Logisitic Design"
   ]
  },
  {
   "cell_type": "markdown",
   "metadata": {},
   "source": [
    "We simulate a simple logistic model $y_i \\sim \\text{Binomial}(p_i)$, where  $p_i= \\frac{1}{1+ \\exp{(-(x_i^\\top\\theta + \\mu_i))}}$ for $n=[30, 1000]$. Each $x_i$ is iid standard normal random variables and $\\theta_\\star \\in \\mathbb{R}^9$ is fixed ahead of time. In order to introduce contaimination into the dataset, we let $\\mu_i = (1-b_i)N(0,1)+b_iN(0,10)$ and $b_i\\sim \\text{Bernoulli}(.1)$.\n",
    "\n",
    "We use a sample of $n = 50,000$ to simulate the population influence function.\n",
    "\n",
    "### Goal\n",
    "\n",
    "We want to study the convergence of the empirical influence function to the population influence function. For this experiment we will use a large sample size $n=50000$ to represent the population.\n",
    "\n",
    "### Notation\n",
    "For our analysis we use the following notation:\n",
    "\n",
    "* $z=(x,y)$ is a sample.\n",
    "\n",
    "* $\\ell(z,\\theta)= -y \\log(\\sigma(x, \\theta)) + (1-y)\\log(1-\\sigma(x, \\theta))$ is the loss function.\n",
    "\n",
    "* $\\theta_\\star := \\argmin_{\\theta \\in \\Theta} \\Big[ F(\\theta):= \\mathbb{E}_{Z \\sim P}\\left[ \\ell(Z, \\theta) \\right] \\Big]$, where $P$ is an unknown probability distribution over the data space $Z$.\n",
    "\n",
    "* $H_\\star = \\nabla_{\\theta_\\star}^2 \\ell (z, \\theta_\\star)$ is the population Hessian.\n",
    "\n",
    "* $ \\theta_n := \\argmin_{\\theta \\in \\Theta} \\frac{1}{n} \\sum_{i=1}^n \\ell(z_i, \\theta)$ is the empirical risk minimizer (i.e. logistic regression).\n",
    "\n",
    "* $H_n(\\theta) := \\frac{1}{n} \\sum_{i=1}^n \\nabla_{\\theta}^2 \\ell(z_i, \\theta_n)$ is empirical Hessian.\n"
   ]
  },
  {
   "cell_type": "code",
   "execution_count": 13,
   "metadata": {},
   "outputs": [],
   "source": [
    "import numpy as np\n",
    "import pandas as pd\n",
    "from sklearn import linear_model\n",
    "from utils import run_sim_log, generate_theta_star, sim_contaminated_log\n",
    "\n",
    "# Generate theta*\n",
    "dim = 9\n",
    "theta_star = generate_theta_star(dim)"
   ]
  },
  {
   "cell_type": "markdown",
   "metadata": {},
   "source": [
    "# Empirical Influence Function for Logistic Regression\n",
    "\n",
    "We use the following closed form solution for the empirical influence function provided by Cook and Weisberg (1982):\n",
    "\n",
    "$I_n(z)= -H_n(\\theta_n)^{-1}\\nabla \\ell(z,\\theta_n)$.\n",
    "\n",
    "We define the following:\n",
    "\n",
    "$H_n(\\theta_n) = \\frac1n\\sum_{i=1}^n  x_ix_i^\\top (\\sigma(x_i,\\theta_n)(1-\\sigma(x_i,\\theta_n)))$ as the empirical Hessian.\n",
    "\n",
    "$\\nabla \\ell(z,\\theta_n) = x^\\top(\\sigma(x,\\theta_n) - y)$ as the gradient of the loss."
   ]
  },
  {
   "cell_type": "code",
   "execution_count": 14,
   "metadata": {},
   "outputs": [],
   "source": [
    "# Finding theta values using logistic regression\n",
    "def find_logistic_estimator(x, y):\n",
    "    clf = linear_model.LogisticRegression(penalty='none')\n",
    "    clf.fit(x, y)\n",
    "    return (clf)\n",
    "\n",
    "\n",
    "def sigma_fn(x, theta):\n",
    "    return (1 / (1 + np.exp(-1 * (np.dot(x, np.transpose(theta))))))\n",
    "\n",
    "\n",
    "def empirical_hessian_logistic(x, theta):\n",
    "    return (1 / x.shape[0]) * np.dot(np.dot(np.transpose(x), (np.diag(sigma_fn(x, theta) * (1 - sigma_fn(x, theta))))), x)\n",
    "\n",
    "\n",
    "def gradient_loss_logistic(x_con, y_con, theta):\n",
    "    return ((np.dot(np.transpose(x_con), (sigma_fn(x_con, theta) - y_con))))\n",
    "\n",
    "# Empirical Influence Function for Logistic Regression\n",
    "def compute_empirical_influence_logistic(x_sim, y_sim, x_con, y_con):\n",
    "    ols_theta = find_logistic_estimator(x_sim, y_sim).coef_\n",
    "    grad_loss = gradient_loss_logistic(x_con, y_con, ols_theta[0])\n",
    "    H = empirical_hessian_logistic(x_sim, ols_theta[0])\n",
    "    H_inv_x = np.linalg.solve(H, grad_loss)\n",
    "    return (-1 * H_inv_x, H)"
   ]
  },
  {
   "cell_type": "markdown",
   "metadata": {},
   "source": [
    "## Run Simulations\n",
    "We now calculate the difference between the empirical influence and population influence of $100$ simulated contamination datapoint using different training data sample sizes ($n = 29, 60, 121, 245, 495, 1000$). We consider the population influence function to be the empriical influence calculated at $n=50,000$."
   ]
  },
  {
   "cell_type": "code",
   "execution_count": 15,
   "metadata": {},
   "outputs": [],
   "source": [
    "# Run simulation\n",
    "eps = .1\n",
    "n_ls = list(np.logspace(np.log10(30), np.log10(1000), 6).astype(int))\n",
    "n_pop = 50000\n",
    "n_sim = 100\n",
    "\n",
    "x_pop, y_pop, mean_diff_abs_total, n_samp, sd_diff_abs_total = run_sim_log(\n",
    "    dim, eps, n_pop, n_ls, n_sim, compute_empirical_influence_logistic, theta_star)"
   ]
  },
  {
   "cell_type": "markdown",
   "metadata": {},
   "source": [
    "## Calculate Statistical Bound (Theorem 1)\n",
    "We calculate the bound from Theorem 1 without coefficients using the following equations. \n",
    "\n",
    "$\\|I_n(z) - I(z)\\|_{H_\\star}^2 \\leq \\frac{p_\\star^2}{\\mu_\\star n} \\log(\\frac p\\delta)^3$\n",
    "\n",
    "where, $p_\\star = \\text{Tr}\\bigg [H_\\star^{-1/2}G_\\star H_\\star^{-1/2} \\bigg] = \\text{Tr}\\bigg [H_\\star^{-1}G_\\star\\bigg ]$ and $G_\\star = \\text{Cov}_{Z\\sim P}(\\nabla_{\\theta_\\star} \\ell(Z,\\theta_\\star))$ is the gradient covariance at $\\theta_\\star$."
   ]
  },
  {
   "cell_type": "code",
   "execution_count": 16,
   "metadata": {},
   "outputs": [],
   "source": [
    "def stat_bound(p_star, mu_star, n, delta, p):\n",
    "    return ((p_star ** 2) / (mu_star * pd.DataFrame(n)) * np.log(p / delta) ** 3)\n",
    "\n",
    "\n",
    "def p_star_func(H, x_con, y_con):\n",
    "    H_inverse = np.linalg.inv(H)\n",
    "    # Find G_\\star, gradient of a single point\n",
    "    grad = gradient_loss_logistic(x_con, y_con, ols_theta[0])  # n\n",
    "    G_star = np.average(np.dot(grad, np.transpose(grad)))  # 1\n",
    "    return (np.trace(H_inverse * G_star))\n",
    "\n",
    "\n",
    "# Gather variables\n",
    "delta = .05\n",
    "p = 9\n",
    "rng = np.random.RandomState(1)\n",
    "# Generate 100 contaminated points\n",
    "x_con_ls, y_con_ls = sim_contaminated_log(p, n_sim, rng, theta_star)\n",
    "# Get population theta and H\n",
    "ols_theta = find_logistic_estimator(x_pop, y_pop).coef_\n",
    "H_pop = empirical_hessian_logistic(x_pop, ols_theta[0])\n",
    "\n",
    "# Calculate bounds\n",
    "mu_star = np.min(np.linalg.eig(H_pop)[0])\n",
    "n = list(np.logspace(np.log10(30), np.log10(1000), 6).astype(int))[1:6]\n",
    "stat_bound_ls = stat_bound(p, mu_star, n, delta, 9)"
   ]
  },
  {
   "cell_type": "markdown",
   "metadata": {},
   "source": [
    "## Graph Results"
   ]
  },
  {
   "cell_type": "code",
   "execution_count": 17,
   "metadata": {},
   "outputs": [],
   "source": [
    "# Graphing Parameters\n",
    "import matplotlib as mpl\n",
    "import matplotlib.pyplot as plt\n",
    "mpl.rcParams[\"lines.linewidth\"] = 3\n",
    "mpl.rcParams[\"xtick.labelsize\"] = 12\n",
    "mpl.rcParams[\"ytick.labelsize\"] = 12\n",
    "mpl.rcParams[\"ytick.labelsize\"] = 12\n",
    "mpl.rcParams[\"legend.fontsize\"] = 18\n",
    "mpl.rcParams[\"axes.titlesize\"] = 18\n",
    "mpl.rcParams[\"axes.labelsize\"] = 18\n",
    "mpl.rcParams['lines.markersize'] = 12\n",
    "shape = [\"o\", \"X\", \"s\", \"^\", \"P\"]\n",
    "line = [\"solid\", \"dotted\", \"dashed\", \"dashdot\", \"loosely dotted\"]\n",
    "COLORS = plt.rcParams['axes.prop_cycle'].by_key()['color']\n"
   ]
  },
  {
   "cell_type": "code",
   "execution_count": 18,
   "metadata": {},
   "outputs": [
    {
     "data": {
      "image/png": "[encoded data removed]",
      "text/plain": [
       "<Figure size 500x400 with 1 Axes>"
      ]
     },
     "metadata": {},
     "output_type": "display_data"
    }
   ],
   "source": [
    "# Graph Results\n",
    "import pandas as pd\n",
    "bound_val_results = pd.DataFrame(\n",
    "    {\"mean_diff_abs\": mean_diff_abs_total, \"n\": n_samp, \"sd_diff_abs\": sd_diff_abs_total})\n",
    "\n",
    "fig, ax = plt.subplots(nrows=1, ncols=1, figsize=(5, 4))\n",
    "data = bound_val_results[1:6]\n",
    "mean = np.abs(data['mean_diff_abs']) / np.max(np.abs(data['mean_diff_abs']))\n",
    "sd = data['sd_diff_abs'] / np.max(np.abs(data['sd_diff_abs']))\n",
    "ax.plot(np.abs(data['n']), mean, color=COLORS[1], marker=shape[1],\n",
    "        linestyle=line[0], markersize=11, label=\"Empirical\")\n",
    "# Scale the statistical bound by a constant of 2\n",
    "ax.plot(np.abs(data['n']), 2 * stat_bound_ls[0] / np.max(stat_bound_ls[0]),\n",
    "        color=COLORS[1], linestyle=line[1], label=\"Bound\")\n",
    "ax.fill_between(np.abs(data['n']), mean - 1.96 * sd / np.sqrt(data['n']),\n",
    "                mean + 1.96 * sd / np.sqrt(data['n']), alpha=0.2, color=COLORS[1])\n",
    "ax.set_ylabel(r'$\\|\\| I_{n}(z) - I(z) \\|\\|_{H_\\star}^2$')\n",
    "ax.set_xlabel(\"Sample Size n\")\n",
    "ax.set_title('Simulated (Classification)')\n",
    "ax.set_xscale(\"log\")\n",
    "ax.set_yscale(\"log\")\n",
    "\n",
    "plt.tight_layout()\n"
   ]
  }
 ],
 "metadata": {
  "interpreter": {
   "hash": "f8679179a5b13137638aa1e24ac6e49d9c5624eddfe7e85d25bbc20e69122995"
  },
  "kernelspec": {
   "display_name": "Python 3.7.13 ('mend')",
   "language": "python",
   "name": "python3"
  },
  "language_info": {
   "codemirror_mode": {
    "name": "ipython",
    "version": 3
   },
   "file_extension": ".py",
   "mimetype": "text/x-python",
   "name": "python",
   "nbconvert_exporter": "python",
   "pygments_lexer": "ipython3",
   "version": "3.7.13"
  },
  "orig_nbformat": 4,
  "vscode": {
   "interpreter": {
    "hash": "f8679179a5b13137638aa1e24ac6e49d9c5624eddfe7e85d25bbc20e69122995"
   }
  }
 },
 "nbformat": 4,
 "nbformat_minor": 2
}
