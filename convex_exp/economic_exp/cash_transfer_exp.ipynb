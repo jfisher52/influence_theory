{
 "cells": [
  {
   "cell_type": "markdown",
   "metadata": {},
   "source": [
    "# Cash Transfer Experiement\n",
    "We use the cash transfer dataset (Angelucci and Giorgi, 2009) to illustrate the statistical bound in our paper. The data comes from a study of the impact of Progresa, a social program in Mexico that gives cash gifts to low income households. Although, the effects on the population receiving the cash transfers is important, Angelucci and Giorgi argue that we must also analyze the impact on the remaining members of the village that are not eligible in order to understandardized the full impact of the program.  However, due to concerns that the non-poor households might have a large influence, the authors decided to limit the range of consumption outcomes for these households (less than 10,000). This results in robustness in the analysis for the poor household but sensitive results for the non-poor households. For our analysis we will  only use data from time period 8. After removing all entries with no response variable (household consumption), we used the remaining $n = 53552$ datapoints. \n",
    "\n",
    "### Notation\n",
    "For our analysis we use the following notation:\n",
    "\n",
    "$z=(x,y)$\n",
    "\n",
    "$\\ell(z,\\theta)= (y - x^T\\theta) + \\lambda \\theta^T \\theta$ is the loss function\n",
    "\n",
    "$H_\\star = \\nabla_{\\theta_\\star}^2 \\ell (\\theta_\\star)$ is the population Hessian\n",
    "\n",
    "$H_n(\\theta_n) := \\frac{1}{n} \\sum_{i=1}^n \\nabla_{\\theta_n}^2 \\ell(z_i, \\theta_n)$ is the estimate of the Hessian\n",
    "\n",
    "$\\theta_n$ is calculated using ridge regression\n"
   ]
  },
  {
   "cell_type": "code",
   "execution_count": 2,
   "metadata": {},
   "outputs": [],
   "source": [
    "# Download Data\n",
    "import pandas as pd\n",
    "import numpy as np\n",
    "from utils import cash_transfer_data, if_diff_n_cash, clean_results_cash, bound_values_cash\n",
    "import warnings\n",
    "warnings.filterwarnings('ignore')\n",
    "\n",
    "\n",
    "standardized_data = cash_transfer_data(\n",
    "    \"../data/cash_transfer_data/table1.dta\")\n"
   ]
  },
  {
   "cell_type": "markdown",
   "metadata": {},
   "source": [
    "# Empirical Influence Function for Ridge Regression\n",
    "We will use the following closed form solution for the empirical influence function provided by Cook and Weisberg (1982).\n",
    "\n",
    "$I_n(z)= -H_n(\\theta_n)^{-1}\\nabla \\ell(z,\\theta_n)$\n",
    "\n",
    "We define the following:\n",
    "\n",
    "$H_n(\\theta_n) = \\frac1n \\sum_{i=1}^n x_ix_i^T + \\lambda_I$ \n",
    "\n",
    "$\\nabla \\ell(z,\\theta_n) = -(y-x^T\\theta_n)x + \\lambda\\theta_n$\n",
    "\n",
    "$\\theta_n$ is calculated using ridge regression"
   ]
  },
  {
   "cell_type": "code",
   "execution_count": 7,
   "metadata": {},
   "outputs": [],
   "source": [
    "# Finding theta values using Ridge regression\n",
    "def ridge(x, y, lambda_):\n",
    "    hess = np.matmul(x.T, x) + lambda_ * np.eye(x.shape[1])\n",
    "    grad = np.matmul(x.T, y)\n",
    "    return np.linalg.solve(hess, grad)\n",
    "\n",
    "# Empirical Influence Function for Linear Regression\n",
    "def emp_if_lin(x_sim, y_sim, x_con, y_con, lambda_, n):\n",
    "    theta_n = ridge(x_sim, y_sim, lambda_)\n",
    "    hess = np.matmul(x_sim.T, x_sim) / n + lambda_ * np.eye(x_sim.shape[1])\n",
    "    grad = (np.dot(x_con, theta_n) - y_con).item() * \\\n",
    "        x_con + np.sum(lambda_*theta_n)\n",
    "    return -np.linalg.solve(hess, np.transpose(grad)), hess\n"
   ]
  },
  {
   "cell_type": "markdown",
   "metadata": {},
   "source": [
    "## Run Experiements\n",
    "We now calculate the difference between the empirical influence and population influence of $100$ training datapoint using different sub-samples of the dataset ($n = 49, 201, 814, 3287, 13268$). We consider the influence calcuated using the whole dataset ($n=53552$) as the poulation. We use $\\lambda_1 = 0.01$. \n"
   ]
  },
  {
   "cell_type": "code",
   "execution_count": 8,
   "metadata": {},
   "outputs": [],
   "source": [
    "# Run Simulation\n",
    "time = 8\n",
    "n_sim = 100\n",
    "lambda_ = .01\n",
    "results_tot, n_ls, H_pop = if_diff_n_cash(\n",
    "    standardized_data, time, n_sim, lambda_, emp_if_lin)\n",
    "\n",
    "# Clean Results\n",
    "mean_diff_abs_total, sd_diff_abs_total = clean_results_cash(\n",
    "    n_ls, results_tot, H_pop)\n"
   ]
  },
  {
   "cell_type": "markdown",
   "metadata": {},
   "source": [
    "## Calculate Statistical Bound (Theorem 1)\n",
    "We calculate the bound from Theorem 1 without coefficients using the following equations. \n",
    "\n",
    "$\\|I_n(z) - I(z)\\|_{H_\\star}^2 \\leq \\frac{p_\\star^2}{\\mu_\\star n} log(\\frac p\\delta)^3$\n",
    "\n",
    "where, $p_\\star = \\text{Tr}\\bigg [H_\\star^{-1/2}G_\\star H_\\star^{-1/2} \\bigg] = \\text{Tr}\\bigg [H_\\star^{-1}G_\\star\\bigg ]$\n"
   ]
  },
  {
   "cell_type": "code",
   "execution_count": 9,
   "metadata": {},
   "outputs": [],
   "source": [
    "def stat_bound(p_star, mu_star, n, delta, p):\n",
    "    return ((p_star**2)/((mu_star)*pd.DataFrame(n))*np.log(p/delta)**3)\n",
    "\n",
    "\n",
    "def p_star_func(H, x_con, y_con, theta_n):\n",
    "    H_inverse = np.linalg.inv(H)\n",
    "    # Find G_\\star, gradient of a single point\n",
    "    grad = (np.dot(x_con, theta_n) - y_con).item() * \\\n",
    "        x_con - np.sum(lambda_*theta_n)\n",
    "    G_star = np.average(np.dot(grad, np.transpose(grad)))  # 1\n",
    "    return (np.trace(H_inverse*G_star))\n",
    "\n",
    "# Get data values\n",
    "x_pop, y_pop, x_con, y_con = bound_values_cash(standardized_data, time)\n",
    "\n",
    "# Calculate bound\n",
    "n = len(y_pop)\n",
    "lambda_ = .01\n",
    "delta = .05\n",
    "theta_n = ridge(x_pop, y_pop, lambda_)\n",
    "H_pop = np.matmul(x_pop.T, x_pop) / n + lambda_ * np.eye(x_pop.shape[1])\n",
    "p_star = p_star_func(H_pop, x_con, y_con, theta_n)\n",
    "mu_star = np.min(np.linalg.eig(H_pop)[0])\n",
    "stat_bound_ls = stat_bound(p_star, mu_star, n_ls, delta, 9)\n"
   ]
  },
  {
   "cell_type": "markdown",
   "metadata": {},
   "source": [
    "## Graph Results"
   ]
  },
  {
   "cell_type": "code",
   "execution_count": 10,
   "metadata": {},
   "outputs": [],
   "source": [
    "# Graphing Parameters\n",
    "import matplotlib.pyplot as plt\n",
    "import matplotlib as mpl\n",
    "mpl.rcParams[\"lines.linewidth\"] = 3\n",
    "mpl.rcParams[\"xtick.labelsize\"] = 12\n",
    "mpl.rcParams[\"ytick.labelsize\"] = 12\n",
    "mpl.rcParams[\"ytick.labelsize\"] = 12\n",
    "mpl.rcParams[\"legend.fontsize\"] = 15\n",
    "mpl.rcParams[\"axes.titlesize\"] = 18\n",
    "mpl.rcParams[\"axes.labelsize\"] = 18\n",
    "mpl.rcParams['lines.markersize'] = 12\n",
    "shape = [\"o\", \"X\", \"s\", \"^\", \"P\"]\n",
    "line = [\"solid\", \"dotted\", \"dashed\", \"dashdot\", \"loosely dotted\"]\n",
    "COLORS = plt.rcParams['axes.prop_cycle'].by_key()['color']\n"
   ]
  },
  {
   "cell_type": "code",
   "execution_count": 12,
   "metadata": {},
   "outputs": [
    {
     "data": {
      "image/png": "[encoded data removed]",
      "text/plain": [
       "<Figure size 500x400 with 1 Axes>"
      ]
     },
     "metadata": {},
     "output_type": "display_data"
    }
   ],
   "source": [
    "n_ls = [49, 164, 540, 1775, 5835]\n",
    "fig, ax = plt.subplots(nrows=1, ncols=1, figsize=(5, 4))\n",
    "ax.plot(n_ls, mean_diff_abs_total,\n",
    "        color=COLORS[0], marker=shape[0], markersize=11, label=\"Empirical\")\n",
    "# Scale the statistical bound by a constant of 50\n",
    "ax.plot(n_ls, pd.DataFrame(50*stat_bound_ls[0]/np.max(stat_bound_ls[0]))[\n",
    "        0:5], color=COLORS[0], linestyle=line[1], label=\"Bound\")\n",
    "ax.fill_between(n_ls, [np.abs(m-sd/np.sqrt(n)).item() for m, sd, n in zip(mean_diff_abs_total, sd_diff_abs_total, n_ls)],\n",
    "                [np.abs(m+sd/np.sqrt(n)).item() for m, sd, n in zip(mean_diff_abs_total, sd_diff_abs_total, n_ls)], alpha=0.2)\n",
    "ax.set_ylabel(r'$\\|\\| I_{n}(z) - I(z) \\|\\|_{H_\\star}^2$')\n",
    "ax.set_xlabel(\"Sample Size n\")\n",
    "ax.set_title('Cash Transfer Dataset')\n",
    "ax.set_xscale(\"log\")\n",
    "ax.set_yscale(\"log\")\n",
    "ax.legend(loc='upper right', borderpad=.15, labelspacing=.2)\n",
    "\n",
    "\n",
    "plt.tight_layout()\n"
   ]
  }
 ],
 "metadata": {
  "interpreter": {
   "hash": "f8679179a5b13137638aa1e24ac6e49d9c5624eddfe7e85d25bbc20e69122995"
  },
  "kernelspec": {
   "display_name": "Python 3.7.13 ('mend')",
   "language": "python",
   "name": "python3"
  },
  "language_info": {
   "codemirror_mode": {
    "name": "ipython",
    "version": 3
   },
   "file_extension": ".py",
   "mimetype": "text/x-python",
   "name": "python",
   "nbconvert_exporter": "python",
   "pygments_lexer": "ipython3",
   "version": "3.7.13"
  },
  "orig_nbformat": 4,
  "vscode": {
   "interpreter": {
    "hash": "958187b95ab5d331e6ea7e9bbf9cbe1475c77c9c3cf9ee0ec4fd5912ea02c687"
   }
  }
 },
 "nbformat": 4,
 "nbformat_minor": 2
}
