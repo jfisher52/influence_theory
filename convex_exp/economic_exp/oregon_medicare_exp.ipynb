{
 "cells": [
  {
   "cell_type": "markdown",
   "metadata": {},
   "source": [
    "# Oregon Medicaid Experiement\n",
    "We use the Oregon medicaid dataset (Finkelstein et al., 2012) to illustrate the statistical bound in our paper. In 2008, Oregon instituted a lottery system for choosing low-income adult resident to enroll in the Medicaid program. Due to the nature of the lottery, it simulates a randomized controlled design study. A year later, a comprehensive survey was conducted on both the treatment group (those who had won the lottery) and the control group (those who did not win the lottery). We analyzed the effects of the treatment (L) on two different health outcomes: overall health indicated by a binary self-reported measure of positive (not fair, good, very good, or excellent) or negative (poor), and the number days with good physical or mental health in the past 30 days. After removing all datapoints without entries for each response variable we used $n = 22517$ for the overall health indicator model and $n = 20902$ for the number of days of good health model.  \n",
    "\n",
    "### Notation\n",
    "For our analysis we use the following notation:\n",
    "\n",
    "$z=(x,y)$\n",
    "\n",
    "$\\ell(z,\\theta)$ is the loss function\n",
    "\n",
    "$H_\\star = \\nabla_{\\theta_\\star}^2 \\ell (\\theta_\\star)$ is the population Hessian\n",
    "\n",
    "$H_n(\\theta_n) := \\frac{1}{n} \\sum_{i=1}^n \\nabla_{\\theta_n}^2 \\ell(z_i, \\theta_n)$ is the estimate of the Hessian"
   ]
  },
  {
   "cell_type": "code",
   "execution_count": 1,
   "metadata": {},
   "outputs": [],
   "source": [
    "\n",
    "import pandas as pd\n",
    "import numpy as np\n",
    "from sklearn.linear_model import LogisticRegression\n",
    "from utils import oregon_medicaid_data, dependent_var_data, if_diff_n_oregon, clean_results_oregon, standardize, bound_values_oregon\n",
    "import warnings\n",
    "warnings.filterwarnings('ignore')\n",
    "\n",
    "# Download and clean data\n",
    "data_survey12m, depen_var, lottery, fixed_var, dem_eco_var = oregon_medicaid_data(\n",
    "    \"../data/oregon_data/oregonhie_descriptive_vars.dta\", \"../data/oregon_data/oregonhie_survey12m_vars.dta\")\n"
   ]
  },
  {
   "cell_type": "markdown",
   "metadata": {},
   "source": [
    "# Empirical Influence Function for Ridge Regression\n",
    "We define, \n",
    "\n",
    "$\\ell(z,\\theta)= (y - x^T\\theta) + \\lambda \\theta^T \\theta$ be the loss function, and $\\theta_n$ is calculated using ridge regression.\n",
    "\n",
    "Then, we use the following closed form solution for the empirical influence function provided by Cook and Weisberg (1982).\n",
    "\n",
    "$I_n(z)= -H_n(\\theta_n)^{-1}\\nabla \\ell(z,\\theta_n)$\n",
    "\n",
    "We define the following:\n",
    "\n",
    "$H_n(\\theta_n) = \\frac1n \\sum_{i=1}^n x_ix_i^T + \\lambda_I$ \n",
    "\n",
    "$\\nabla \\ell(z,\\theta_n) = -(y-x^T\\theta_n)x + \\lambda\\theta_n$"
   ]
  },
  {
   "cell_type": "code",
   "execution_count": 2,
   "metadata": {},
   "outputs": [],
   "source": [
    "# Finding theta values using Ridge regression\n",
    "def ridge(x, y, lambda_):\n",
    "    hess = np.matmul(x.T, x) + lambda_ * np.eye(x.shape[1])\n",
    "    grad = np.matmul(x.T, y)\n",
    "    return np.linalg.solve(hess, grad)\n",
    "\n",
    "# Empirical Influence Function for Linear Regression\n",
    "def emp_if_lin(x, y, x_con, y_con, lambda_, n):\n",
    "    ridge_theta = ridge(x, y, lambda_)\n",
    "    hess = np.matmul(x.T, x) / n + lambda_ * np.eye(x.shape[1])\n",
    "    grad = (np.dot(x_con, ridge_theta) - y_con).item() * \\\n",
    "        x_con + np.sum(lambda_*ridge_theta)\n",
    "    return (-np.linalg.solve(hess, np.transpose(grad)), hess)\n"
   ]
  },
  {
   "cell_type": "markdown",
   "metadata": {},
   "source": [
    "# Empirical Influence Function for Logistic Regression\n",
    "We define, \n",
    "\n",
    "$\\sigma(x, \\theta) = \\frac{1}{1+\\exp{(-x^T\\theta)}}$ and $\\ell(z,\\theta)= -y \\log(\\sigma(x, \\theta)) + (1-y)\\log(1-\\sigma(x, \\theta))$ as the loss function. \n",
    "\n",
    "$\\theta_n$ is calculated using logistic regression\n",
    "\n",
    "Then, we will use the following closed form solution for the empirical influence function provided by Cook and Weisberg (1982).\n",
    "\n",
    "$I_n(z)= -H_n(\\theta_n)^{-1}\\nabla \\ell(z,\\theta_n)$\n",
    "\n",
    "We define the following:\n",
    "\n",
    "$H_n(\\theta_n) = \\frac1n\\sum_{i=1}^n  x_ix_i^T(\\sigma(x_i,\\theta_n)(1-\\sigma(x_i,\\theta_n)))$\n",
    "\n",
    "$\\nabla \\ell(z,\\theta_n) = x^T(\\sigma(x,\\theta_n) - y)$"
   ]
  },
  {
   "cell_type": "code",
   "execution_count": 3,
   "metadata": {},
   "outputs": [],
   "source": [
    "# Finding theta values using Logistic Regression\n",
    "def logistic(x, y):\n",
    "    clf = LogisticRegression(penalty='none')\n",
    "    clf.fit(x, y)\n",
    "    return (clf)\n",
    "\n",
    "\n",
    "def sigma(x, theta):\n",
    "    return (1/(1+np.exp(-1*(np.dot(x, np.transpose(theta))))))\n",
    "\n",
    "\n",
    "def emp_H_func(x, theta):\n",
    "    return (1/x.shape[0]) * np.dot(np.dot(np.transpose(x), (np.diag(sigma(x, theta)*(1-sigma(x, theta))))), x)\n",
    "\n",
    "\n",
    "def grad_loss_func(x_con, y_con, theta):\n",
    "    return ((np.dot(np.transpose(x_con), (sigma(x_con, theta)-y_con))))\n",
    "\n",
    "    \n",
    "# Empirical Influence Function for Logistic Regression\n",
    "def emp_if_log(x, y, x_con, y_con, lambda_):\n",
    "    ridge_theta = logistic(x, y).coef_\n",
    "    grad = grad_loss_func(\n",
    "        x_con, y_con, ridge_theta[0]) + np.sum(lambda_*ridge_theta)\n",
    "    H = emp_H_func(x, ridge_theta[0]) + lambda_ * np.eye(x.shape[1])\n",
    "    H_inv_x = np.linalg.solve(H, grad)\n",
    "    return (-1*H_inv_x, H)\n"
   ]
  },
  {
   "cell_type": "markdown",
   "metadata": {},
   "source": [
    "## Run Experiements\n",
    "We now calculate the difference between the empirical influence and population influence of $100$ training datapoint. \n",
    "\n",
    "For the binary response variable \"health_gen_bin_fair_12m\", we use $n =  49, 169, 575, 1954, 6634$, and consider the population to be the full dataset of $n=22517$. \n",
    "\n",
    "For the numeric response variable \"gooddays_tot_12m'\", we use $n = 49, 167, 559, 1869, 6251$ and consider the population to be the full dataset of $n=, 20902$. We use a penalized parameter of $\\lambda_1 = 0.01$.\n",
    "\n"
   ]
  },
  {
   "cell_type": "code",
   "execution_count": 4,
   "metadata": {},
   "outputs": [],
   "source": [
    "# Run Simulation\n",
    "data_hg = dependent_var_data(\"health_gen_bin_fair_12m\")\n",
    "results_hg, results_tot_hg, n_ls_hg, H_pop_hg = if_diff_n_oregon(\n",
    "    data_hg, 100, \"health_gen_bin_fair_12m\", emp_if_lin, emp_if_log, .01, reg_type=\"logistic\")\n",
    "\n",
    "data_gd = dependent_var_data('gooddays_tot_12m')\n",
    "results_gd, results_tot_gd, n_ls_gd, H_pop_gd = if_diff_n_oregon(\n",
    "    data_gd, 100, 'gooddays_tot_12m', emp_if_lin, emp_if_log, .01)\n",
    "\n",
    "# Clean Results\n",
    "n_ls_hg_final, results_mean_hg, results_sd_hg, results_total_mean_hg, results_total_sd_hg = clean_results_oregon(\n",
    "    results_hg, results_tot_hg, n_ls_hg, H_pop_hg)\n",
    "n_ls_gd_final, results_mean_gd, results_sd_gd, results_total_mean_gd, results_total_sd_gd = clean_results_oregon(\n",
    "    results_gd, results_tot_gd, n_ls_gd, H_pop_gd)\n",
    "\n",
    "results_total_mean_hg = standardize(results_mean_hg)\n",
    "results_total_sd_hg = standardize(results_sd_hg)\n",
    "results_total_mean_gd = standardize(results_mean_gd)\n",
    "results_total_sd_gd = standardize(results_sd_gd)\n"
   ]
  },
  {
   "cell_type": "markdown",
   "metadata": {},
   "source": [
    "## Calculate Statistical Bound (Theorem 1)\n",
    "We calculate the bound from Theorem 1 without coefficients using the following equations. \n",
    "\n",
    "$\\|I_n(z) - I(z)\\|_{H_\\star}^2 \\leq \\frac{p_\\star^2}{\\mu_\\star n} log(\\frac p\\delta)^3$\n",
    "\n",
    "where, $p_\\star = \\text{Tr}\\bigg [H_\\star^{-1/2}G_\\star H_\\star^{-1/2} \\bigg] = \\text{Tr}\\bigg [H_\\star^{-1}G_\\star\\bigg ]$"
   ]
  },
  {
   "cell_type": "code",
   "execution_count": 5,
   "metadata": {},
   "outputs": [],
   "source": [
    "def stat_bound(p_star, mu_star, n, delta, p):\n",
    "    return ((p_star**2)/((mu_star)*pd.DataFrame(n))*np.log(p/delta)**3)\n",
    "\n",
    "\n",
    "def p_star_func_lin(H, x_con, y_con, ridge_theta):\n",
    "    H_inverse = np.linalg.inv(H)\n",
    "    # Find G_\\star, gradient of a single point\n",
    "    grad = (np.dot(x_con, ridge_theta) - y_con).item() * \\\n",
    "        x_con - np.sum(lambda_*ridge_theta)\n",
    "    G_star = np.average(np.dot(grad, np.transpose(grad)))  # 1\n",
    "    return (np.trace(H_inverse*G_star))\n",
    "\n",
    "\n",
    "def p_star_func_log(H, x_con, y_con, ridge_theta):\n",
    "    H_inverse = np.linalg.inv(H)\n",
    "    # Find G_\\star, gradient of a single point\n",
    "    grad = grad_loss_func(\n",
    "        x_con, y_con, ridge_theta[0]) + np.sum(lambda_*ridge_theta)\n",
    "    G_star = np.average(np.dot(grad, np.transpose(grad)))  # 1\n",
    "    return (np.trace(H_inverse*G_star))\n",
    "\n",
    "\n",
    "# Compute Bound for linear\n",
    "# Extract population/contaminated x and y\n",
    "d = 'gooddays_tot_12m'\n",
    "x_pop, y_pop, x_con, y_con = bound_values_oregon(data_gd, d)\n",
    "\n",
    "# Parameters\n",
    "delta = .05\n",
    "n_ls = list(np.logspace(np.log10(50), np.log10(len(data_gd)), 6).astype(int))\n",
    "n = len(y_pop)\n",
    "lambda_ = .01\n",
    "\n",
    "# Compute Bound\n",
    "ridge_theta = ridge(x_pop, y_pop, lambda_)\n",
    "H_pop = np.matmul(x_pop.T, x_pop) / n + lambda_ * np.eye(x_pop.shape[1])\n",
    "p_star = p_star_func_lin(H_pop, x_con, y_con, ridge_theta)\n",
    "mu_star = np.min(np.linalg.eig(H_pop)[0])\n",
    "stat_bound_ls_gd = stat_bound(p_star, mu_star, n_ls, delta, x_con.shape[1])\n",
    "\n",
    "# Compute Bound for logistic\n",
    "# Get all data\n",
    "d = 'health_gen_bin_fair_12m'\n",
    "x_pop, y_pop, x_con, y_con = bound_values_oregon(data_hg, d)\n",
    "\n",
    "# Parameters\n",
    "delta = .05\n",
    "n_ls = list(np.logspace(np.log10(50), np.log10(len(data_hg)), 6).astype(int))\n",
    "\n",
    "# Compute Bound\n",
    "ridge_theta = logistic(x_pop, y_pop).coef_\n",
    "H_pop = emp_H_func(x_pop, ridge_theta[0])\n",
    "p_star = p_star_func_log(H_pop, x_con, y_con, ridge_theta)\n",
    "mu_star = np.min(np.linalg.eig(H_pop)[0])\n",
    "stat_bound_ls_hg = stat_bound(p_star, mu_star, n_ls, delta, x_con.shape[1])\n"
   ]
  },
  {
   "cell_type": "markdown",
   "metadata": {},
   "source": [
    "## Graph Results"
   ]
  },
  {
   "cell_type": "code",
   "execution_count": 6,
   "metadata": {},
   "outputs": [],
   "source": [
    "# Graphing Parameters\n",
    "import matplotlib as mpl\n",
    "import matplotlib.pyplot as plt\n",
    "mpl.rcParams[\"lines.linewidth\"] = 3\n",
    "mpl.rcParams[\"xtick.labelsize\"] = 12\n",
    "mpl.rcParams[\"ytick.labelsize\"] = 12\n",
    "mpl.rcParams[\"ytick.labelsize\"] = 12\n",
    "mpl.rcParams[\"legend.fontsize\"] = 14\n",
    "mpl.rcParams[\"axes.titlesize\"] = 18\n",
    "mpl.rcParams[\"axes.labelsize\"] = 18\n",
    "mpl.rcParams['lines.markersize'] = 12\n",
    "shape = [\"o\", \"X\", \"s\", \"^\", \"P\"]\n",
    "line = [\"solid\", \"dotted\", \"dashed\", \"dashdot\", \"loosely dotted\"]\n",
    "COLORS = plt.rcParams['axes.prop_cycle'].by_key()['color']\n"
   ]
  },
  {
   "cell_type": "code",
   "execution_count": 8,
   "metadata": {},
   "outputs": [
    {
     "data": {
      "image/png": "[encoded data removed]",
      "text/plain": [
       "<Figure size 500x400 with 1 Axes>"
      ]
     },
     "metadata": {},
     "output_type": "display_data"
    }
   ],
   "source": [
    "# Graph Results\n",
    "import matplotlib.pyplot as plt\n",
    "from matplotlib.legend_handler import HandlerBase\n",
    "\n",
    "\n",
    "class AnyObjectHandler(HandlerBase):\n",
    "    def create_artists(self, legend, orig_handle,\n",
    "                       x0, y0, width, height, fontsize, trans):\n",
    "        l1 = plt.Line2D([x0, y0+width], [0.7*height, 0.7*height],\n",
    "                        linestyle=orig_handle[1], color=orig_handle[2])\n",
    "        l2 = plt.Line2D([x0, y0+width], [0.3*height, 0.3*height],\n",
    "                        color=orig_handle[0])\n",
    "        return [l1, l2]\n",
    "\n",
    "\n",
    "fig, ax = plt.subplots(nrows=1, ncols=1, figsize=(5, 4))\n",
    "ax.plot(n_ls_hg_final, results_total_mean_hg, label=\"Classification\",\n",
    "        color=COLORS[1], marker=shape[1], markersize=11)\n",
    "ax.fill_between(n_ls_hg_final, [np.abs(m-sd/np.sqrt(n)).item() for m, sd, n in zip(results_total_mean_hg, results_total_sd_hg, n_ls_hg_final)], [\n",
    "                np.abs(m+sd/np.sqrt(n)).item() for m, sd, n in zip(results_total_mean_hg, results_total_sd_hg, n_ls_hg_final)], alpha=0.2)\n",
    "ax.plot(n_ls_hg_final, pd.DataFrame(48*stat_bound_ls_hg[0]/np.max(stat_bound_ls_hg[0]))[\n",
    "        0:5], color=COLORS[1], markersize=11, linestyle=line[1], label=\"Classification\")\n",
    "ax.plot(n_ls_gd_final, results_total_mean_gd, label=\"Regression\",\n",
    "        color=COLORS[0], marker=shape[0], markersize=11, linestyle=line[0])\n",
    "ax.fill_between(n_ls_gd_final, [np.abs(m-sd/np.sqrt(n)).item() for m, sd, n in zip(results_total_mean_gd, results_total_sd_gd, n_ls_gd_final)], [\n",
    "                np.abs(m+sd/np.sqrt(n)).item() for m, sd, n in zip(results_total_mean_gd, results_total_sd_gd, n_ls_gd_final)], alpha=0.2)\n",
    "ax.plot(n_ls_gd_final, pd.DataFrame(4.5*stat_bound_ls_gd[0]/np.max(\n",
    "    stat_bound_ls_gd[0]))[0:5], color=COLORS[0], markersize=11, linestyle=line[1])\n",
    "ax.set_ylabel(r'$|| I_{n}(z) - I(z) ||_{H_\\star}^2$')\n",
    "ax.set_xlabel(\"Sample Size\")\n",
    "ax.set_title('Oregon Medicaid Dataset')\n",
    "ax.set_xscale(\"log\")\n",
    "ax.set_yscale(\"log\")\n",
    "ax.legend([(COLORS[0], line[1], COLORS[0]), (COLORS[1], line[1], COLORS[1])], ['Regression', \"Classification\"],\n",
    "          handler_map={tuple: AnyObjectHandler()})\n",
    "\n",
    "plt.tight_layout()\n"
   ]
  }
 ],
 "metadata": {
  "interpreter": {
   "hash": "f8679179a5b13137638aa1e24ac6e49d9c5624eddfe7e85d25bbc20e69122995"
  },
  "kernelspec": {
   "display_name": "Python 3.7.13 ('mend')",
   "language": "python",
   "name": "python3"
  },
  "language_info": {
   "codemirror_mode": {
    "name": "ipython",
    "version": 3
   },
   "file_extension": ".py",
   "mimetype": "text/x-python",
   "name": "python",
   "nbconvert_exporter": "python",
   "pygments_lexer": "ipython3",
   "version": "3.7.13"
  },
  "orig_nbformat": 4,
  "vscode": {
   "interpreter": {
    "hash": "958187b95ab5d331e6ea7e9bbf9cbe1475c77c9c3cf9ee0ec4fd5912ea02c687"
   }
  }
 },
 "nbformat": 4,
 "nbformat_minor": 2
}
