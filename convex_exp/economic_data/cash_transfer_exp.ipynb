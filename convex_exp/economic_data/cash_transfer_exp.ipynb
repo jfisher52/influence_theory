{
 "cells": [
  {
   "cell_type": "markdown",
   "metadata": {},
   "source": [
    "# Cash Transfer Experiement\n",
    "We use the cash transfer dataset (Angelucci and Giorgi, 2009) to illustrate the statistical bound in our paper. The data comes from a study of the impact of Progresa, a social program in Mexico that gives cash gifts to low income households. Although, the effects on the population receiving the cash transfers is important, Angelucci and Giorgi argue that we must also analyze the impact on the remaining members of the village that are not eligible in order to understandardized the full impact of the program.  However, due to concerns that the non-poor households might have a large influence, the authors decided to limit the range of consumption outcomes for these households (less than 10,000). This results in robustness in the analysis for the poor household but sensitive results for the non-poor households. For our analysis we will  only use data from time period 8. After removing all entries with no response variable (household consumption), we used the remaining $n = 53552$ datapoints. "
   ]
  },
  {
   "cell_type": "code",
   "execution_count": 25,
   "metadata": {},
   "outputs": [
    {
     "name": "stderr",
     "output_type": "stream",
     "text": [
      "/home/jrfish/nlp/AISTAT_2022_InfuenceFunction/experiments/economic_data/data_cleaning.py:30: FutureWarning: Dropping of nuisance columns in DataFrame reductions (with 'numeric_only=None') is deprecated; in a future version this will raise TypeError.  Select only valid columns before calling the reduction.\n",
      "  data.fillna(data.mean(), inplace=True)\n"
     ]
    }
   ],
   "source": [
    "# Download Data\n",
    "from sklearn import preprocessing\n",
    "import pandas as pd\n",
    "import numpy as np\n",
    "from data_cleaning import cash_transfer_data\n",
    "\n",
    "standardized_data = cash_transfer_data(\n",
    "    \"../data/cash_transfer_data/table1.dta\")[0]\n"
   ]
  },
  {
   "cell_type": "markdown",
   "metadata": {},
   "source": [
    "# Empirical Influence Function for Ridge Regression\n",
    "We will use the following closed form solution for the empirical influence function provided by Cook and Weisberg (1982).\n",
    "\n",
    "$I_n(z)= -H_n(\\theta_n)^{-1}(\\psi(z,\\theta_n))$\n",
    "\n",
    "where $z=(x, y)$.\n",
    "\n",
    "We define the following:\n",
    "\n",
    "$H_n(\\theta_n) =  \\frac1n \\sum_{i=1}^n x_ix_i^T + \\lambda_1 I$ \n",
    "\n",
    "$\\psi(z,\\theta_n) = \\nabla \\ell(z,\\theta_n) = -(y-x^T\\theta_n)x + \\sum \\lambda_1*\\theta_n$\n",
    "\n",
    "$\\theta_n$ is calculated using ridge regression"
   ]
  },
  {
   "cell_type": "code",
   "execution_count": 26,
   "metadata": {},
   "outputs": [],
   "source": [
    "# Empirical Influence Function \n",
    "from scipy.linalg import block_diag\n",
    "from numpy.linalg import inv\n",
    "import numpy as np\n",
    "\n",
    "# Finding theta values using Ridge\n",
    "from sklearn import linear_model\n",
    "def ridge(x, y, lambda1):\n",
    "    hess = np.matmul(x.T, x) + lambda1 * np.eye(x.shape[1])  # (d, d)\n",
    "    grad = np.matmul(x.T, y) # (d,)\n",
    "    return np.linalg.solve(hess, grad)   # hess^{-1} grad\n",
    "\n",
    "def if_linear_emp(x, y, x_con, y_con, lambda1, n):\n",
    "    theta_n = ridge(x, y, lambda1)\n",
    "    hess =  np.matmul(x.T, x) / n + lambda1 * np.eye(x.shape[1])\n",
    "    grad = (np.dot(x_con, theta_n) - y_con).item() * x_con + np.sum(lambda1*theta_n)\n",
    "    return -np.linalg.solve(hess, np.transpose(grad)) , hess"
   ]
  },
  {
   "cell_type": "markdown",
   "metadata": {},
   "source": [
    "## Run Experiements\n",
    "We now calculate the difference between the empirical influence and population influence of $100$ training datapoint using different sub-samples of the dataset ($n = 49, 201, 814, 3287, 13268$). We consider the influence calcuated using the whole dataset ($n=53552$) as the poulation. We use $\\lambda_1 = 0.01$. \n"
   ]
  },
  {
   "cell_type": "code",
   "execution_count": 27,
   "metadata": {},
   "outputs": [],
   "source": [
    "# Runs n_sim number of simulations computing population and empirical IF on one contaminated point\n",
    "def if_diff_n(data,time,n_sim, lambda1):\n",
    "    if_ls_p ={}\n",
    "    if_ls_np ={}\n",
    "    if_ls_tot ={}\n",
    "    H_pop = []\n",
    "    # Filter data to time period\n",
    "    data = data[data['t'] == time]\n",
    "    n_ls = list(np.logspace(np.log10(50),np.log10(len(data)),6).astype(int))\n",
    "    # Generate random sample of contamination data points\n",
    "    influence_dfs = data.sample(n_sim,random_state=2)\n",
    "    for n in n_ls:\n",
    "        # Generate random training sample of size n\n",
    "        sample_df = data.sample(n,random_state=1)\n",
    "        infl_p = []\n",
    "        infl_np = []\n",
    "        infl_tot = []\n",
    "        for i in range(n_sim):\n",
    "            i_df = influence_dfs[i:i+1]\n",
    "            x = sample_df[['treatp','treatnp','hhhsex_bi','hectareas','vhhnum','hhhage_cl', 'hhhspouse_cl']]\n",
    "            y = sample_df['Cind']\n",
    "            x_con = i_df[['treatp','treatnp','hhhsex_bi','hectareas','vhhnum','hhhage_cl', 'hhhspouse_cl']]\n",
    "            y_con = i_df['Cind']\n",
    "            if_all, H = if_linear_emp(x,y,x_con,y_con,lambda1, n)\n",
    "            infl_p.append(if_all[0])\n",
    "            infl_np.append(if_all[1])\n",
    "            infl_tot.append(if_all)\n",
    "            if i == 0:\n",
    "                H_pop.append(H)\n",
    "        if_ls_p[n] = infl_p\n",
    "        if_ls_np[n] = infl_np\n",
    "        if_ls_tot[n] = infl_tot\n",
    "\n",
    "    return(if_ls_p, if_ls_np,if_ls_tot, n_ls, H_pop)"
   ]
  },
  {
   "cell_type": "code",
   "execution_count": 28,
   "metadata": {},
   "outputs": [
    {
     "name": "stderr",
     "output_type": "stream",
     "text": [
      "/home/jrfish/miniconda3/envs/mend/lib/python3.7/site-packages/ipykernel_launcher.py:9: FutureWarning: Calling a ufunc on non-aligned DataFrames (or DataFrame/Series combination). Currently, the indices are ignored and the result takes the index/columns of the first DataFrame. In the future , the DataFrames/Series will be aligned before applying the ufunc.\n",
      "Convert one of the arguments to a NumPy array (eg 'ufunc(df1, np.asarray(df2)') to keep the current behaviour, or align manually (eg 'df1, df2 = df1.align(df2)') before passing to the ufunc to obtain the future behaviour and silence this warning.\n",
      "  if __name__ == \"__main__\":\n",
      "/home/jrfish/miniconda3/envs/mend/lib/python3.7/site-packages/ipykernel_launcher.py:15: FutureWarning: Calling a ufunc on non-aligned DataFrames (or DataFrame/Series combination). Currently, the indices are ignored and the result takes the index/columns of the first DataFrame. In the future , the DataFrames/Series will be aligned before applying the ufunc.\n",
      "Convert one of the arguments to a NumPy array (eg 'ufunc(df1, np.asarray(df2)') to keep the current behaviour, or align manually (eg 'df1, df2 = df1.align(df2)') before passing to the ufunc to obtain the future behaviour and silence this warning.\n",
      "  from ipykernel import kernelapp as app\n"
     ]
    }
   ],
   "source": [
    "# Run Simulation\n",
    "time = 8\n",
    "n_sim = 100\n",
    "lambda1=.01\n",
    "results_p, results_np,results_tot, n_ls, H_pop = if_diff_n(standardized_data,time, n_sim, lambda1)\n",
    "\n",
    "# Extract Results\n",
    "results_mean_p = []\n",
    "results_sd_p = []\n",
    "results_mean_np = []\n",
    "results_sd_np = []\n",
    "bound_val = []\n",
    "mean_diff_abs_total = []\n",
    "sd_diff_abs_total = []\n",
    "for i, n in enumerate(n_ls[0:len(n_ls)-1]):\n",
    "    results_mean_p.append((pd.DataFrame(results_p)[n] - pd.DataFrame(results_p)[n_ls[5]]).abs().mean())\n",
    "    results_sd_p.append(1.96*(pd.DataFrame(results_p)[n] - pd.DataFrame(results_p)[n_ls[5]]).abs().std())\n",
    "    results_mean_np.append((pd.DataFrame(results_np)[n] - pd.DataFrame(results_np)[n_ls[5]]).abs().mean())\n",
    "    results_sd_np.append(1.96*(pd.DataFrame(results_np)[n] - pd.DataFrame(results_np)[n_ls[5]]).abs().std())\n",
    "    for j in range(len(results_tot)):\n",
    "        diff_abs_total = np.abs(pd.DataFrame(results_tot)[n][j] - pd.DataFrame(results_tot)[n_ls[5]][j])\n",
    "        bound_val.append(np.dot(np.matmul(H_pop[i],diff_abs_total),np.transpose(diff_abs_total)))\n",
    "    mean_diff_abs_total.append(np.mean(bound_val))\n",
    "    sd_diff_abs_total.append(np.std(bound_val))\n",
    "\n",
    "# standardization\n",
    "def standardized(data):\n",
    "    return([d/data[0] for d in data])\n",
    "\n",
    "# Clean data\n",
    "mean_diff_abs_total = standardized(mean_diff_abs_total)\n",
    "sd_diff_abs_total = standardized(sd_diff_abs_total)"
   ]
  },
  {
   "cell_type": "markdown",
   "metadata": {},
   "source": [
    "## Calculate Statistical Bound (Theorem 1)\n",
    "We calculate the bound from Theorem 1 without coefficients using the following equations. \n",
    "\n",
    "$\\|I_n(z) - I(z)\\|_{H_\\star}^2 \\leq \\frac{p_\\star^2}{\\mu_\\star n} log(\\frac p\\delta)^3$\n",
    "\n",
    "where, $p_\\star = \\text{Tr}\\bigg [H_\\star^{-1/2}G_\\star H_\\star^{-1/2} \\bigg] = \\text{Tr}\\bigg [H_\\star^{-1}G_\\star\\bigg ]$\n"
   ]
  },
  {
   "cell_type": "code",
   "execution_count": 29,
   "metadata": {},
   "outputs": [
    {
     "name": "stderr",
     "output_type": "stream",
     "text": [
      "/home/jrfish/miniconda3/envs/mend/lib/python3.7/site-packages/ipykernel_launcher.py:9: FutureWarning: Calling a ufunc on non-aligned DataFrames (or DataFrame/Series combination). Currently, the indices are ignored and the result takes the index/columns of the first DataFrame. In the future , the DataFrames/Series will be aligned before applying the ufunc.\n",
      "Convert one of the arguments to a NumPy array (eg 'ufunc(df1, np.asarray(df2)') to keep the current behaviour, or align manually (eg 'df1, df2 = df1.align(df2)') before passing to the ufunc to obtain the future behaviour and silence this warning.\n",
      "  if __name__ == \"__main__\":\n",
      "/home/jrfish/miniconda3/envs/mend/lib/python3.7/site-packages/ipykernel_launcher.py:30: FutureWarning: Calling a ufunc on non-aligned DataFrames (or DataFrame/Series combination). Currently, the indices are ignored and the result takes the index/columns of the first DataFrame. In the future , the DataFrames/Series will be aligned before applying the ufunc.\n",
      "Convert one of the arguments to a NumPy array (eg 'ufunc(df1, np.asarray(df2)') to keep the current behaviour, or align manually (eg 'df1, df2 = df1.align(df2)') before passing to the ufunc to obtain the future behaviour and silence this warning.\n"
     ]
    }
   ],
   "source": [
    "# Calculate Statistical Bound (Theorem 1)\n",
    "from scipy.linalg import sqrtm\n",
    "import numpy as np\n",
    "def stat_bound(p_star, mu_star,n,delta,p):\n",
    "    return((p_star**2)/((mu_star)*pd.DataFrame(n))*np.log(p/delta)**3)\n",
    "\n",
    "def p_star_func(H,x_con, y_con, theta_n):\n",
    "    H_inverse = np.linalg.inv(H) \n",
    "    # Find G_\\star, gradient of a single point \n",
    "    grad = (np.dot(x_con, theta_n)- y_con).item()* x_con - np.sum(lambda1*theta_n)\n",
    "    G_star = np.average(np.dot(grad,np.transpose(grad)))# 1\n",
    "    return(np.trace(H_inverse*G_star))\n",
    "\n",
    "# Use only data from time period 8 (same as training data used in experiment)\n",
    "t=8\n",
    "data = standardized_data[standardized_data['t'] == time]\n",
    "x_pop = data[['treatp','treatnp','hhhsex_bi','hectareas','vhhnum','hhhage_cl', 'hhhspouse_cl']]\n",
    "y_pop = data['Cind']\n",
    "\n",
    "# Sample a training data point\n",
    "tr_df = data.sample(1,random_state=2)\n",
    "x_con = tr_df[['treatp','treatnp','hhhsex_bi','hectareas','vhhnum','hhhage_cl', 'hhhspouse_cl']]\n",
    "y_con = tr_df['Cind']\n",
    "\n",
    "# Calculate bound\n",
    "n = len(y_pop)\n",
    "lambda1 = .01\n",
    "theta_n = ridge(x_pop,y_pop, lambda1)\n",
    "H_pop = np.matmul(x_pop.T, x_pop) / n + lambda1 * np.eye(x_pop.shape[1])\n",
    "delta = .05\n",
    "p_star = p_star_func(H_pop,x_con,y_con, theta_n)\n",
    "mu_star = np.min(np.linalg.eig(H_pop)[0])\n",
    "stat_bound_ls=stat_bound(p_star,mu_star,n_ls,delta,9)\n"
   ]
  },
  {
   "cell_type": "markdown",
   "metadata": {},
   "source": [
    "## Graph Results"
   ]
  },
  {
   "cell_type": "code",
   "execution_count": 30,
   "metadata": {},
   "outputs": [],
   "source": [
    "# Graphing Parameters\n",
    "import matplotlib.pyplot as plt\n",
    "import matplotlib as mpl\n",
    "mpl.rcParams[\"lines.linewidth\"] = 3\n",
    "mpl.rcParams[\"xtick.labelsize\"] = 12\n",
    "mpl.rcParams[\"ytick.labelsize\"] = 12\n",
    "mpl.rcParams[\"ytick.labelsize\"] = 12\n",
    "mpl.rcParams[\"legend.fontsize\"] = 15\n",
    "mpl.rcParams[\"axes.titlesize\"] = 18\n",
    "mpl.rcParams[\"axes.labelsize\"] = 18\n",
    "mpl.rcParams['lines.markersize'] = 12\n",
    "shape = [\"o\",\"X\", \"s\",\"^\", \"P\"]\n",
    "line = [\"solid\", \"dotted\", \"dashed\", \"dashdot\",\"loosely dotted\"]\n",
    "COLORS = plt.rcParams['axes.prop_cycle'].by_key()['color']"
   ]
  },
  {
   "cell_type": "code",
   "execution_count": 31,
   "metadata": {},
   "outputs": [
    {
     "data": {
      "image/png": "[encoded data removed]",
      "text/plain": [
       "<Figure size 500x400 with 1 Axes>"
      ]
     },
     "metadata": {},
     "output_type": "display_data"
    }
   ],
   "source": [
    "n_ls = [49, 164, 540, 1775, 5835]\n",
    "fig, ax = plt.subplots(nrows=1, ncols=1, figsize=(5,4))\n",
    "ax.plot(n_ls, mean_diff_abs_total, color = COLORS[0],marker = shape[0], markersize = 11, label = \"Empirical\")\n",
    "ax.plot(n_ls,pd.DataFrame(50*stat_bound_ls[0]/np.max(stat_bound_ls[0]))[0:5], color = COLORS[0], linestyle = line[1], label = \"Bound\")\n",
    "ax.fill_between(n_ls, [np.abs(m-sd/np.sqrt(n)).item() for m,sd,n in zip(mean_diff_abs_total, sd_diff_abs_total, n_ls)], [np.abs(m+sd/np.sqrt(n)).item() for m,sd,n in zip(mean_diff_abs_total, sd_diff_abs_total,n_ls)], alpha=0.2)\n",
    "ax.set_ylabel(r'$\\|\\| I_{n}(z) - I(z) \\|\\|_{H_\\star}^2$')\n",
    "ax.set_xlabel(\"Sample Size n\")\n",
    "ax.set_title('Cash Transfer Dataset')\n",
    "ax.set_xscale(\"log\")\n",
    "ax.set_yscale(\"log\")\n",
    "ax.legend(loc='upper right', borderpad=.15, labelspacing=.2)\n",
    "\n",
    "\n",
    "plt.tight_layout()\n",
    "plt.savefig(\"../../graphs/real_data_cash_bound.pdf\")\n",
    "plt.savefig(\"../../graphs/real_data_cash_bound.png\")"
   ]
  }
 ],
 "metadata": {
  "interpreter": {
   "hash": "f8679179a5b13137638aa1e24ac6e49d9c5624eddfe7e85d25bbc20e69122995"
  },
  "kernelspec": {
   "display_name": "Python 3.7.13 ('mend')",
   "language": "python",
   "name": "python3"
  },
  "language_info": {
   "codemirror_mode": {
    "name": "ipython",
    "version": 3
   },
   "file_extension": ".py",
   "mimetype": "text/x-python",
   "name": "python",
   "nbconvert_exporter": "python",
   "pygments_lexer": "ipython3",
   "version": "3.7.13"
  },
  "orig_nbformat": 4,
  "vscode": {
   "interpreter": {
    "hash": "958187b95ab5d331e6ea7e9bbf9cbe1475c77c9c3cf9ee0ec4fd5912ea02c687"
   }
  }
 },
 "nbformat": 4,
 "nbformat_minor": 2
}
