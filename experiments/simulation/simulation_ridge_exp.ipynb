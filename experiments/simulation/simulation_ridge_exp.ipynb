{
 "cells": [
  {
   "cell_type": "markdown",
   "metadata": {},
   "source": [
    "# Numerical Illustrations (Linear)\n",
    "Setup inspired from Avella-Medina (2017).\n",
    "\n",
    "We will use a linear model solved using penalized ridge regression to illustrate the statistical influence function bound proven in this paper. "
   ]
  },
  {
   "cell_type": "markdown",
   "metadata": {},
   "source": [
    "## Linear Design"
   ]
  },
  {
   "cell_type": "markdown",
   "metadata": {},
   "source": [
    "We simulate a model $y_i = x_i^T\\theta + \\mu_i$ for $n=[15, 10,000]$. Each $x_i$ is iid standard normal random variables and $\\theta \\in \\mathbb{R}^9$ is fixed ahead of time. In order to introduce contaimination into the dataset, we let $\\mu_i = (1-b_i)N(0,1)+b_iN(0,10)$ and $b_i\\sim \\text{Bernoulli}(.1)$.\n"
   ]
  },
  {
   "cell_type": "code",
   "execution_count": 5,
   "metadata": {},
   "outputs": [],
   "source": [
    "# Simulate Data\n",
    "import numpy as np\n",
    "from math import sqrt\n",
    "\n",
    "# Generate theta*\n",
    "dim = 9\n",
    "rng1 = np.random.RandomState(0)\n",
    "theta_star = rng1.randn(dim)  # Random parameters\n",
    "theta_star = theta_star / np.linalg.norm(theta_star)  # Make norm = 1\n",
    "\n",
    "# Simulate training data\n",
    "def sim_data(eps, n, rng):\n",
    "    b = np.random.binomial(size=n, n=1, p=eps)  # (n,)\n",
    "    # Normalize by dimension to small norm\n",
    "    x = rng.normal(0, 1, size=(n, dim)) / dim  # (n, d)\n",
    "    mu = (1-b) * rng.normal(0, 1, size=n) + b * \\\n",
    "        rng.normal(0, sqrt(10), size=n)  # (n,)\n",
    "    y = np.matmul(x, theta_star) + mu\n",
    "    return x, y\n",
    "\n",
    "# Simulate contaminated point\n",
    "def sim_contaminated(n, rng):\n",
    "    x = rng.normal(0, 1, size=(n, dim)) / dim  # (n, d)\n",
    "    mu = rng.normal(0, sqrt(10), size=n)  # (n,)\n",
    "    y = np.matmul(x, theta_star) + mu  # (n,)\n",
    "    return x, y\n"
   ]
  },
  {
   "cell_type": "markdown",
   "metadata": {},
   "source": [
    "# Population Influence Function for Ridge Regression\n",
    "We will use the following closed form solution for the population influence function provided by Cook and Weisberg (1982).\n",
    "\n",
    "$I(z)= -H_\\star^{-1}\\psi(z,\\theta_\\star)$\n",
    "\n",
    "where $z=(x,y), x\\sim N(0,1), \\mu \\sim N(0,10), y = x^T\\theta^\\star + \\mu$\n",
    "\n",
    "We define the following:\n",
    "\n",
    "$H_\\star =  diag(\\frac{1}{d^2} + \\lambda_1)$ , where $d$ is dimension of $\\theta$\n",
    "\n",
    "$\\psi(z,\\theta_\\star) = \\nabla \\ell(z,\\theta_\\star) = -(y-x^T\\theta_\\star)x +\\sum\\lambda_1*\\theta_\\star$\n",
    "\n"
   ]
  },
  {
   "cell_type": "code",
   "execution_count": 7,
   "metadata": {},
   "outputs": [],
   "source": [
    "# Population Influence Function\n",
    "from scipy.linalg import block_diag\n",
    "import numpy as np\n",
    "def if_orth_pop(x_con, y_con, oracle_theta, lambda1):\n",
    "    # Population hessian, use theta=theta_star\n",
    "    hess = np.eye(dim) * (1 / dim**2 + lambda1)  # H = (1/d^2) I in our case\n",
    "    grad = (np.dot(x_con, oracle_theta) - y_con) * x_con + np.sum(lambda1*oracle_theta)\n",
    "    return -np.linalg.solve(hess, grad)"
   ]
  },
  {
   "cell_type": "markdown",
   "metadata": {},
   "source": [
    "# Empirical Influence Function for Ridge Regression\n",
    "We will use the following closed form solution for the empirical influence function provided by Cook and Weisberg (1982).\n",
    "\n",
    "$I_n(z)= -H_n(\\theta_n)^{-1}(\\psi(z,\\theta_n))$\n",
    "\n",
    "where $z=(x,y), x\\sim N(0,1), \\mu \\sim N(0,10), y = x^T\\theta^\\star + \\mu$\n",
    "\n",
    "We define the following:\n",
    "\n",
    "$H_n(\\theta_n) = \\frac1n \\sum_{i=1}^n x_ix_i^T + \\lambda_1 I$ \n",
    "\n",
    "$\\psi(z,\\theta_n) = \\nabla \\ell(z,\\theta_n) = -(y-x^T\\theta_n)x + \\sum \\lambda_1*\\theta_n$\n",
    "\n",
    "$\\theta_n$ is calculated using ridge regression"
   ]
  },
  {
   "cell_type": "code",
   "execution_count": 8,
   "metadata": {},
   "outputs": [],
   "source": [
    "from scipy.linalg import block_diag\n",
    "from numpy.linalg import inv\n",
    "import numpy as np\n",
    "\n",
    "# Finding theta values using Ridge regression \n",
    "from sklearn import linear_model\n",
    "def ridge(x, y, lambda1):\n",
    "    hess = np.matmul(x.T, x) + lambda1 * np.eye(x.shape[1])  \n",
    "    grad = np.matmul(x.T, y) \n",
    "    return np.linalg.solve(hess, grad)  \n",
    "\n",
    "def if_orth_emp(x_sim, y_sim, x_con, y_con, lambda1, n):\n",
    "    ridge_theta = ridge(x_sim, y_sim, lambda1)\n",
    "    hess = np.matmul(x_sim.T, x_sim) / n + lambda1 * np.eye(x_sim.shape[1])\n",
    "    grad = (np.dot(x_con, ridge_theta) - y_con) * x_con+ np.sum(lambda1*ridge_theta)\n",
    "    return -np.linalg.solve(hess, grad)\n"
   ]
  },
  {
   "cell_type": "markdown",
   "metadata": {},
   "source": [
    "# Find `oracle_theta` for the Ridge problem \n",
    "\n",
    "We have $\\theta_{\\lambda}^\\star = (E[x x^\\top]  + \\lambda I)^{-1} E[yx]$. \n",
    "\n",
    "But our data generation satisfies $y = x^\\top \\theta_\\star + \\epsilon$ so that \n",
    "$$\n",
    "    E[yx] = E[xx^\\top] \\theta_\\star + E[x\\epsilon] = H \\theta_\\star \\,.\n",
    "$$\n",
    "\n",
    "Therefore, \n",
    "$$\n",
    "    \\theta_\\lambda^\\star = (H  + \\lambda I)^{-1} H \\theta_\\star = \\frac{1/d^2}{1/d^2 + \\lambda} \\theta_\\star ,\n",
    "$$\n",
    "since $H = (1 / d^2) I$ in our case. "
   ]
  },
  {
   "cell_type": "code",
   "execution_count": 9,
   "metadata": {},
   "outputs": [],
   "source": [
    "def find_oracle_theta(lambda1):\n",
    "    return 1 / (1 + lambda1 * dim * dim) * theta_star"
   ]
  },
  {
   "cell_type": "markdown",
   "metadata": {},
   "source": [
    "## Run Simulations\n",
    "We now calculate the difference between the empirical influence and population influence of $100$ simulated contamination datapoint using different training data sample sizes ($n = 15, 55, 202, 742, 2724, 10000$). We consider different penalization parameter values $\\lambda_1 = 1e-4, 1e-3, 1e-2$. \n"
   ]
  },
  {
   "cell_type": "code",
   "execution_count": 10,
   "metadata": {},
   "outputs": [],
   "source": [
    "# Runs n_sim number of simulations computing population and empirical IF on one contaminated point\n",
    "def if_diff_sim(x_sim, y_sim, oracle_theta_dict, lambda1, n, n_sim, seed):\n",
    "    oracle_theta = oracle_theta_dict[lambda1]\n",
    "    x_con_ls = []\n",
    "    y_con_ls = []\n",
    "    if_emp_ls = []\n",
    "    if_pop_ls = []\n",
    "    rng = np.random.RandomState(seed)\n",
    "    x_con_ls, y_con_ls = sim_contaminated(n_sim, rng)\n",
    "    for i in range(n_sim):\n",
    "        x_con = x_con_ls[i]\n",
    "        y_con = y_con_ls[i]\n",
    "        if_emp_ls.append(if_orth_emp(x_sim, y_sim, x_con, y_con, lambda1, n))\n",
    "        if_pop_ls.append(if_orth_pop(x_con, y_con, oracle_theta, lambda1))\n",
    "    return (x_con_ls, y_con_ls, if_emp_ls, if_pop_ls)"
   ]
  },
  {
   "cell_type": "code",
   "execution_count": 11,
   "metadata": {},
   "outputs": [],
   "source": [
    "# Run simulation\n",
    "eps = .1\n",
    "lambda1_ls = [1e-4, 1e-3, 1e-2]\n",
    "n_ls = list(np.logspace(np.log10(15),np.log10(10000), 6).astype(int))\n",
    "n_sim = 100\n",
    "\n",
    "oracle_theta_dict = {l : find_oracle_theta(l) for l in lambda1_ls}\n",
    "\n",
    "mean_diff_abs_0 = []\n",
    "sd_diff_abs_0 = []\n",
    "mean_diff_abs_1 = []\n",
    "sd_diff_abs_1 = []\n",
    "mean_diff_abs_2 = []\n",
    "sd_diff_abs_2 = []\n",
    "mean_diff_abs_total = []\n",
    "sd_diff_abs_total = []\n",
    "n_samp = []\n",
    "lambda1 = []\n",
    "\n",
    "rng = np.random.RandomState(1)\n",
    "\n",
    "for n in n_ls:\n",
    "    x_sim, y_sim = sim_data(eps, n, rng)\n",
    "    for l in lambda1_ls:\n",
    "        x_con_ls, y_con_ls, if_emp_ls, if_pop_ls = if_diff_sim(x_sim, y_sim, oracle_theta_dict, l, n, n_sim, 1)\n",
    "        diff_0 = []\n",
    "        diff_1 = []\n",
    "        diff_2 = []\n",
    "        diff_abs_0 = []\n",
    "        diff_abs_1 = []\n",
    "        diff_abs_2 = []\n",
    "        bound_val = []\n",
    "        for i in range(len(if_emp_ls)):\n",
    "            diff_abs_0.append(np.abs(if_emp_ls[i][0]-if_pop_ls[i][0]))\n",
    "            diff_abs_1.append(np.abs(if_emp_ls[i][1]-if_pop_ls[i][1]))\n",
    "            diff_abs_2.append(np.abs(if_emp_ls[i][2]-if_pop_ls[i][2]))\n",
    "            diff_abs_total = np.abs(if_emp_ls[i]-if_pop_ls[i])\n",
    "            bound_val.append(np.dot(np.matmul(diff_abs_total,np.eye(dim) * (1 / dim**2 + l)),np.transpose(diff_abs_total)))\n",
    "        sd_diff_abs_0.append(np.std(diff_abs_0))\n",
    "        mean_diff_abs_0.append(np.mean(diff_abs_0))\n",
    "        sd_diff_abs_1.append(np.std(diff_abs_1))\n",
    "        mean_diff_abs_1.append(np.mean(diff_abs_1))\n",
    "        sd_diff_abs_2.append(np.std(diff_abs_2))\n",
    "        mean_diff_abs_2.append(np.mean(diff_abs_2))\n",
    "        mean_diff_abs_total.append(np.mean(bound_val))\n",
    "        sd_diff_abs_total.append(np.std(bound_val))\n",
    "        n_samp.append(n)\n",
    "        lambda1.append(l)"
   ]
  },
  {
   "cell_type": "markdown",
   "metadata": {},
   "source": [
    "## Calculate Statistical Bound (Theorem 1)\n",
    "We calculate the bound from Theorem 1 without coefficients using the following equations. \n",
    "\n",
    "$\\|I_n(z) - I(z)\\|_{H_\\star}^2 \\leq \\frac{p_\\star^2}{\\mu_\\star n} log(\\frac p\\delta)^3$\n",
    "\n",
    "where, $p_\\star = \\text{Tr}\\bigg [H_\\star^{-1/2}G_\\star H_\\star^{-1/2} \\bigg] = \\text{Tr}\\bigg [H_\\star^{-1}G_\\star\\bigg ]$"
   ]
  },
  {
   "cell_type": "code",
   "execution_count": 12,
   "metadata": {},
   "outputs": [],
   "source": [
    "import pandas as pd\n",
    "bound_val_results = pd.DataFrame({\"mean_diff_abs\":mean_diff_abs_total, \"n\":n_samp,\"lambda1\":lambda1,\"sd_diff_abs\":sd_diff_abs_total})\n",
    "\n",
    "def stat_bound(p_star, mu_star,n,delta):\n",
    "    return((p_star**2)/((mu_star)*n)*np.log(p/delta)**3)\n",
    "    \n",
    "p = 9\n",
    "lambda1_ls = [1e-4, 1e-3, 1e-2]\n",
    "stat_bound_ls={}\n",
    "delta = .05\n",
    "for l in lambda1_ls:\n",
    "    hess_pop = np.eye(dim) * (1 / dim**l)\n",
    "    mu_star = np.min(np.linalg.eig(hess_pop)[0])\n",
    "    n_ls = bound_val_results.loc[bound_val_results['lambda1']== l]['n']\n",
    "    stat_bound_ls[l]=stat_bound(p,mu_star,n_ls,delta)"
   ]
  },
  {
   "cell_type": "markdown",
   "metadata": {},
   "source": [
    "## Graph Results\n",
    "We only graph results for $\\lambda_1 = 1e-3$"
   ]
  },
  {
   "cell_type": "code",
   "execution_count": 13,
   "metadata": {},
   "outputs": [],
   "source": [
    "# Graphing Parameters\n",
    "import matplotlib as mpl\n",
    "import matplotlib.pyplot as plt\n",
    "mpl.rcParams[\"lines.linewidth\"] = 3\n",
    "mpl.rcParams[\"xtick.labelsize\"] = 12\n",
    "mpl.rcParams[\"ytick.labelsize\"] = 12\n",
    "mpl.rcParams[\"ytick.labelsize\"] = 12\n",
    "mpl.rcParams[\"legend.fontsize\"] = 15\n",
    "mpl.rcParams[\"axes.titlesize\"] = 18\n",
    "mpl.rcParams[\"axes.labelsize\"] = 18\n",
    "mpl.rcParams['lines.markersize'] = 12\n",
    "shape = [\"o\",\"X\", \"s\",\"^\", \"P\"]\n",
    "line = [\"solid\", \"dotted\", \"dashed\", \"dashdot\",\"loosely dotted\"]\n",
    "COLORS = plt.rcParams['axes.prop_cycle'].by_key()['color']\n"
   ]
  },
  {
   "cell_type": "code",
   "execution_count": 17,
   "metadata": {},
   "outputs": [
    {
     "data": {
      "image/png": "[encoded data removed]",
      "text/plain": [
       "<Figure size 500x400 with 1 Axes>"
      ]
     },
     "metadata": {},
     "output_type": "display_data"
    }
   ],
   "source": [
    "# Graph Results\n",
    "import pandas as pd\n",
    "bound_val_results = pd.DataFrame({\"mean_diff_abs\":mean_diff_abs_total, \"n\":n_samp,\"lambda1\":lambda1,\"sd_diff_abs\":sd_diff_abs_total})\n",
    "lambda1_ls_name = [r\"$10^{-4}$\", r\"$10^{-3}$\", r\"$10^{-2}$\"]\n",
    "lambda1_ls = [1e-3]\n",
    "fig, ax = plt.subplots(nrows=1, ncols=1, figsize=(5,4))\n",
    "for i, l in enumerate(lambda1_ls):\n",
    "    data = bound_val_results.loc[bound_val_results['lambda1']== l]\n",
    "    ax.plot(np.abs(data['n']),np.abs(data['mean_diff_abs']),label = \"Empirical\", color = COLORS[i], marker = shape[i], linestyle = line[i], markersize = 11)\n",
    "    ax.fill_between(np.abs(data['n']), np.abs(data['mean_diff_abs']-1.96*data['sd_diff_abs']/np.sqrt(data['n'])), np.abs(data['mean_diff_abs']+1.96*data['sd_diff_abs']/np.sqrt(data['n'])), alpha=0.2)\n",
    "    ax.plot(np.abs(data['n']), stat_bound_ls[l], color = COLORS[i], linestyle = line[1],label = \"Bound\")\n",
    "\n",
    "ax.set_ylabel(r'$\\|\\| I_{n}(z) - I(z) \\|\\|_{H_\\star}^2$')\n",
    "ax.set_xlabel(\"Sample Size n\")\n",
    "ax.set_title('Simulated (Regression)')\n",
    "ax.set_xscale(\"log\")\n",
    "ax.set_yscale(\"log\")\n",
    "ax.legend(loc='upper right', borderpad=.15, labelspacing=.2)\n",
    "\n",
    "plt.legend(loc='upper right', title='Reg. Param.', title_fontsize = 18)\n",
    "plt.tight_layout()\n",
    "\n",
    "plt.savefig(\"../../graphs/simulation_linear_bound.pdf\")\n",
    "plt.savefig(\"../../graphs/simulation_linear_bound.png\")"
   ]
  }
 ],
 "metadata": {
  "interpreter": {
   "hash": "958187b95ab5d331e6ea7e9bbf9cbe1475c77c9c3cf9ee0ec4fd5912ea02c687"
  },
  "kernelspec": {
   "display_name": "Python 3 (ipykernel)",
   "language": "python",
   "name": "python3"
  },
  "language_info": {
   "codemirror_mode": {
    "name": "ipython",
    "version": 3
   },
   "file_extension": ".py",
   "mimetype": "text/x-python",
   "name": "python",
   "nbconvert_exporter": "python",
   "pygments_lexer": "ipython3",
   "version": "3.7.11"
  }
 },
 "nbformat": 4,
 "nbformat_minor": 4
}
